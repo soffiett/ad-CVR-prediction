{
 "cells": [
  {
   "cell_type": "markdown",
   "id": "885d4fa4",
   "metadata": {},
   "source": [
    "## Prediction of app ads commercial conversation rate"
   ]
  },
  {
   "cell_type": "markdown",
   "id": "273bdef3",
   "metadata": {},
   "source": [
    "## 1. Business understanding\n",
    "App advertising plays a vital role in supporting smartphone apps. Advertisers in display advertising may design and campaigns with different product goals and can start numerious campains, with each is associated with a couple of ads. \n",
    "In order to maximize the expected revenue, the app must predict the probability of a click on an ad, more commonly known as click conversion rate (CVR) of an ad. \n",
    "The convertion rate is defined as the the rate of click and buy the product in the ads after clicking them:\n",
    "pCVR = P(coverstion = 1|Ad, User, Context)\n",
    "The task of this work is to predict the users' interest in an advertisement by examing pCVR. \n"
   ]
  },
  {
   "cell_type": "markdown",
   "id": "a16b7b5d",
   "metadata": {},
   "source": [
    "## 2. Data understanding: \n",
    "Data were sampled for the length of two weeks in a social media app, and various user domains (domastic regions, age, gender, etc). Data from the first 13 days were used to train the odel and predict the CVR.\n",
    "Each sample is a log from a single click. Label is 0 (no conversation), or 1(conversion)\n",
    "All feature values are categorical and encrypted.\n",
    "\n",
    "2.1. Ads related features:\n",
    "- advertizerID\n",
    "- campainingID: a collection of commercial ads\n",
    "- adID: target app, size, ideas, target customers, bid\n",
    "- creativeID:\n",
    "- appID: app promoted in the ads\n",
    "- appCategory: category of app promoted in the ads. Three digit code.  First digit: first category; second and third digit: sub category\n",
    "- appPlatform: operation system, i.e. android, iOS, or unknown. Each app ID only belongs to one platform. \n",
    "\n",
    "\n",
    "2.2. User features:\n",
    "- usderID\n",
    "- age: [0,80], 0 means unknown\n",
    "- gender: male, female, unknown\n",
    "- eduation\n",
    "- marriageStatus\n",
    "- haveBaby\n",
    "- Hometown: four digit code\n",
    "- residence: four digit code\n",
    "- appInstallList\n",
    "\n",
    "2.3. Context features: \n",
    "- positionID\n",
    "- sitesetID\n",
    "- positionType\n",
    "- connectionType\n",
    "- Carrier\n",
    "\n",
    "2.4. Evalution: Logarithmic loss\n",
    "\n",
    "$ L_ {log}(y_{i}, p_{i}) = -\\frac{1}{N}\\sum \\limits _{i=1} ^{n}(y_{i} log(p_{i}) + (1-y_{i}) log(1-p_{i}))$\n",
    "\n",
    "Where $N$ is the total sample size, $y_{i}$ is the binary variable with value of $0$ and $1$, $p_{i}$ is the probability of conversion  = 1"
   ]
  },
  {
   "cell_type": "markdown",
   "id": "0609e44b",
   "metadata": {},
   "source": [
    "## 3. Data preparation and feature extraction"
   ]
  },
  {
   "cell_type": "code",
   "execution_count": 3,
   "id": "587328c6",
   "metadata": {},
   "outputs": [],
   "source": [
    "# important libraries required\n",
    "import pandas as pd\n",
    "import numpy as np\n",
    "import scipy as sp\n",
    "import matplotlib.pyplot as plt\n",
    "import seaborn as sns\n",
    "\n",
    "%matplotlib inline"
   ]
  },
  {
   "cell_type": "code",
   "execution_count": 4,
   "id": "209d16ab",
   "metadata": {},
   "outputs": [],
   "source": [
    "#Load train and test datadata\n",
    "df_train = pd.read_csv(\"./data/train.csv\")\n",
    "df_test = pd.read_csv(\"./data/test.csv\") #the test data didn't provide any true labels. Can only predict the probability\n"
   ]
  },
  {
   "cell_type": "code",
   "execution_count": 5,
   "id": "b743ee96",
   "metadata": {},
   "outputs": [
    {
     "data": {
      "text/html": [
       "<div>\n",
       "<style scoped>\n",
       "    .dataframe tbody tr th:only-of-type {\n",
       "        vertical-align: middle;\n",
       "    }\n",
       "\n",
       "    .dataframe tbody tr th {\n",
       "        vertical-align: top;\n",
       "    }\n",
       "\n",
       "    .dataframe thead th {\n",
       "        text-align: right;\n",
       "    }\n",
       "</style>\n",
       "<table border=\"1\" class=\"dataframe\">\n",
       "  <thead>\n",
       "    <tr style=\"text-align: right;\">\n",
       "      <th></th>\n",
       "      <th>label</th>\n",
       "      <th>clickTime</th>\n",
       "      <th>conversionTime</th>\n",
       "      <th>creativeID</th>\n",
       "      <th>userID</th>\n",
       "      <th>positionID</th>\n",
       "      <th>connectionType</th>\n",
       "      <th>telecomsOperator</th>\n",
       "    </tr>\n",
       "  </thead>\n",
       "  <tbody>\n",
       "    <tr>\n",
       "      <th>0</th>\n",
       "      <td>0</td>\n",
       "      <td>170000</td>\n",
       "      <td>NaN</td>\n",
       "      <td>3089</td>\n",
       "      <td>2798058</td>\n",
       "      <td>293</td>\n",
       "      <td>1</td>\n",
       "      <td>1</td>\n",
       "    </tr>\n",
       "    <tr>\n",
       "      <th>1</th>\n",
       "      <td>0</td>\n",
       "      <td>170000</td>\n",
       "      <td>NaN</td>\n",
       "      <td>1259</td>\n",
       "      <td>463234</td>\n",
       "      <td>6161</td>\n",
       "      <td>1</td>\n",
       "      <td>2</td>\n",
       "    </tr>\n",
       "    <tr>\n",
       "      <th>2</th>\n",
       "      <td>0</td>\n",
       "      <td>170000</td>\n",
       "      <td>NaN</td>\n",
       "      <td>4465</td>\n",
       "      <td>1857485</td>\n",
       "      <td>7434</td>\n",
       "      <td>4</td>\n",
       "      <td>1</td>\n",
       "    </tr>\n",
       "    <tr>\n",
       "      <th>3</th>\n",
       "      <td>0</td>\n",
       "      <td>170000</td>\n",
       "      <td>NaN</td>\n",
       "      <td>1004</td>\n",
       "      <td>2038823</td>\n",
       "      <td>977</td>\n",
       "      <td>1</td>\n",
       "      <td>1</td>\n",
       "    </tr>\n",
       "    <tr>\n",
       "      <th>4</th>\n",
       "      <td>0</td>\n",
       "      <td>170000</td>\n",
       "      <td>NaN</td>\n",
       "      <td>1887</td>\n",
       "      <td>2015141</td>\n",
       "      <td>3688</td>\n",
       "      <td>1</td>\n",
       "      <td>1</td>\n",
       "    </tr>\n",
       "  </tbody>\n",
       "</table>\n",
       "</div>"
      ],
      "text/plain": [
       "   label  clickTime  conversionTime  creativeID   userID  positionID  \\\n",
       "0      0     170000             NaN        3089  2798058         293   \n",
       "1      0     170000             NaN        1259   463234        6161   \n",
       "2      0     170000             NaN        4465  1857485        7434   \n",
       "3      0     170000             NaN        1004  2038823         977   \n",
       "4      0     170000             NaN        1887  2015141        3688   \n",
       "\n",
       "   connectionType  telecomsOperator  \n",
       "0               1                 1  \n",
       "1               1                 2  \n",
       "2               4                 1  \n",
       "3               1                 1  \n",
       "4               1                 1  "
      ]
     },
     "execution_count": 5,
     "metadata": {},
     "output_type": "execute_result"
    }
   ],
   "source": [
    "df_train.head()"
   ]
  },
  {
   "cell_type": "code",
   "execution_count": 6,
   "id": "a777f885",
   "metadata": {},
   "outputs": [
    {
     "data": {
      "text/html": [
       "<div>\n",
       "<style scoped>\n",
       "    .dataframe tbody tr th:only-of-type {\n",
       "        vertical-align: middle;\n",
       "    }\n",
       "\n",
       "    .dataframe tbody tr th {\n",
       "        vertical-align: top;\n",
       "    }\n",
       "\n",
       "    .dataframe thead th {\n",
       "        text-align: right;\n",
       "    }\n",
       "</style>\n",
       "<table border=\"1\" class=\"dataframe\">\n",
       "  <thead>\n",
       "    <tr style=\"text-align: right;\">\n",
       "      <th></th>\n",
       "      <th>label</th>\n",
       "      <th>clickTime</th>\n",
       "      <th>conversionTime</th>\n",
       "      <th>creativeID</th>\n",
       "      <th>userID</th>\n",
       "      <th>positionID</th>\n",
       "      <th>connectionType</th>\n",
       "      <th>telecomsOperator</th>\n",
       "    </tr>\n",
       "  </thead>\n",
       "  <tbody>\n",
       "    <tr>\n",
       "      <th>count</th>\n",
       "      <td>3.749528e+06</td>\n",
       "      <td>3.749528e+06</td>\n",
       "      <td>93262.000000</td>\n",
       "      <td>3.749528e+06</td>\n",
       "      <td>3.749528e+06</td>\n",
       "      <td>3.749528e+06</td>\n",
       "      <td>3.749528e+06</td>\n",
       "      <td>3.749528e+06</td>\n",
       "    </tr>\n",
       "    <tr>\n",
       "      <th>mean</th>\n",
       "      <td>2.487300e-02</td>\n",
       "      <td>2.418317e+05</td>\n",
       "      <td>242645.358013</td>\n",
       "      <td>3.261575e+03</td>\n",
       "      <td>1.405349e+06</td>\n",
       "      <td>3.702799e+03</td>\n",
       "      <td>1.222590e+00</td>\n",
       "      <td>1.605879e+00</td>\n",
       "    </tr>\n",
       "    <tr>\n",
       "      <th>std</th>\n",
       "      <td>1.557380e-01</td>\n",
       "      <td>3.958793e+04</td>\n",
       "      <td>39285.385532</td>\n",
       "      <td>1.829643e+03</td>\n",
       "      <td>8.088094e+05</td>\n",
       "      <td>1.923724e+03</td>\n",
       "      <td>5.744428e-01</td>\n",
       "      <td>8.491127e-01</td>\n",
       "    </tr>\n",
       "    <tr>\n",
       "      <th>min</th>\n",
       "      <td>0.000000e+00</td>\n",
       "      <td>1.700000e+05</td>\n",
       "      <td>170005.000000</td>\n",
       "      <td>1.000000e+00</td>\n",
       "      <td>1.000000e+00</td>\n",
       "      <td>1.000000e+00</td>\n",
       "      <td>0.000000e+00</td>\n",
       "      <td>0.000000e+00</td>\n",
       "    </tr>\n",
       "    <tr>\n",
       "      <th>25%</th>\n",
       "      <td>0.000000e+00</td>\n",
       "      <td>2.116270e+05</td>\n",
       "      <td>211626.000000</td>\n",
       "      <td>1.540000e+03</td>\n",
       "      <td>7.058698e+05</td>\n",
       "      <td>2.579000e+03</td>\n",
       "      <td>1.000000e+00</td>\n",
       "      <td>1.000000e+00</td>\n",
       "    </tr>\n",
       "    <tr>\n",
       "      <th>50%</th>\n",
       "      <td>0.000000e+00</td>\n",
       "      <td>2.418390e+05</td>\n",
       "      <td>242106.000000</td>\n",
       "      <td>3.465000e+03</td>\n",
       "      <td>1.407062e+06</td>\n",
       "      <td>3.322000e+03</td>\n",
       "      <td>1.000000e+00</td>\n",
       "      <td>1.000000e+00</td>\n",
       "    </tr>\n",
       "    <tr>\n",
       "      <th>75%</th>\n",
       "      <td>0.000000e+00</td>\n",
       "      <td>2.722170e+05</td>\n",
       "      <td>272344.000000</td>\n",
       "      <td>4.565000e+03</td>\n",
       "      <td>2.105989e+06</td>\n",
       "      <td>4.896000e+03</td>\n",
       "      <td>1.000000e+00</td>\n",
       "      <td>2.000000e+00</td>\n",
       "    </tr>\n",
       "    <tr>\n",
       "      <th>max</th>\n",
       "      <td>1.000000e+00</td>\n",
       "      <td>3.023590e+05</td>\n",
       "      <td>302359.000000</td>\n",
       "      <td>6.582000e+03</td>\n",
       "      <td>2.805118e+06</td>\n",
       "      <td>7.645000e+03</td>\n",
       "      <td>4.000000e+00</td>\n",
       "      <td>3.000000e+00</td>\n",
       "    </tr>\n",
       "  </tbody>\n",
       "</table>\n",
       "</div>"
      ],
      "text/plain": [
       "              label     clickTime  conversionTime    creativeID        userID  \\\n",
       "count  3.749528e+06  3.749528e+06    93262.000000  3.749528e+06  3.749528e+06   \n",
       "mean   2.487300e-02  2.418317e+05   242645.358013  3.261575e+03  1.405349e+06   \n",
       "std    1.557380e-01  3.958793e+04    39285.385532  1.829643e+03  8.088094e+05   \n",
       "min    0.000000e+00  1.700000e+05   170005.000000  1.000000e+00  1.000000e+00   \n",
       "25%    0.000000e+00  2.116270e+05   211626.000000  1.540000e+03  7.058698e+05   \n",
       "50%    0.000000e+00  2.418390e+05   242106.000000  3.465000e+03  1.407062e+06   \n",
       "75%    0.000000e+00  2.722170e+05   272344.000000  4.565000e+03  2.105989e+06   \n",
       "max    1.000000e+00  3.023590e+05   302359.000000  6.582000e+03  2.805118e+06   \n",
       "\n",
       "         positionID  connectionType  telecomsOperator  \n",
       "count  3.749528e+06    3.749528e+06      3.749528e+06  \n",
       "mean   3.702799e+03    1.222590e+00      1.605879e+00  \n",
       "std    1.923724e+03    5.744428e-01      8.491127e-01  \n",
       "min    1.000000e+00    0.000000e+00      0.000000e+00  \n",
       "25%    2.579000e+03    1.000000e+00      1.000000e+00  \n",
       "50%    3.322000e+03    1.000000e+00      1.000000e+00  \n",
       "75%    4.896000e+03    1.000000e+00      2.000000e+00  \n",
       "max    7.645000e+03    4.000000e+00      3.000000e+00  "
      ]
     },
     "execution_count": 6,
     "metadata": {},
     "output_type": "execute_result"
    }
   ],
   "source": [
    "df_train.describe()"
   ]
  },
  {
   "cell_type": "code",
   "execution_count": 7,
   "id": "1582daf5",
   "metadata": {},
   "outputs": [
    {
     "name": "stdout",
     "output_type": "stream",
     "text": [
      "<class 'pandas.core.frame.DataFrame'>\n",
      "RangeIndex: 3749528 entries, 0 to 3749527\n",
      "Data columns (total 8 columns):\n",
      " #   Column            Dtype  \n",
      "---  ------            -----  \n",
      " 0   label             int64  \n",
      " 1   clickTime         int64  \n",
      " 2   conversionTime    float64\n",
      " 3   creativeID        int64  \n",
      " 4   userID            int64  \n",
      " 5   positionID        int64  \n",
      " 6   connectionType    int64  \n",
      " 7   telecomsOperator  int64  \n",
      "dtypes: float64(1), int64(7)\n",
      "memory usage: 228.9 MB\n"
     ]
    }
   ],
   "source": [
    "df_train.info()"
   ]
  },
  {
   "cell_type": "code",
   "execution_count": 8,
   "id": "5e8302f5",
   "metadata": {},
   "outputs": [
    {
     "data": {
      "text/plain": [
       "0    3656266\n",
       "1      93262\n",
       "Name: label, dtype: int64"
      ]
     },
     "execution_count": 8,
     "metadata": {},
     "output_type": "execute_result"
    }
   ],
   "source": [
    "df_train.label.value_counts() #unbalanced data"
   ]
  },
  {
   "cell_type": "code",
   "execution_count": 17,
   "id": "9196b0a8",
   "metadata": {},
   "outputs": [
    {
     "data": {
      "text/plain": [
       "<AxesSubplot:xlabel='label', ylabel='count'>"
      ]
     },
     "execution_count": 17,
     "metadata": {},
     "output_type": "execute_result"
    },
    {
     "data": {
      "image/png": "[encoded data removed]",
      "text/plain": [
       "<Figure size 432x288 with 1 Axes>"
      ]
     },
     "metadata": {
      "needs_background": "light"
     },
     "output_type": "display_data"
    }
   ],
   "source": [
    "sns.countplot(x = 'label',data = df_train)"
   ]
  },
  {
   "cell_type": "markdown",
   "id": "4f677178",
   "metadata": {},
   "source": [
    "### extract click day and time"
   ]
  },
  {
   "cell_type": "markdown",
   "id": "425ae327",
   "metadata": {},
   "source": [
    "variable \"clickTime\" contains day (two two digit) and time (3rd and 4th digit). Samples tain samples contains day 17 to day 30. "
   ]
  },
  {
   "cell_type": "code",
   "execution_count": 18,
   "id": "e73944dd",
   "metadata": {},
   "outputs": [],
   "source": [
    "def ext_day(cT):\n",
    "    ext_day= int(str(cT)[0:2])\n",
    "    return ext_day\n",
    "def ext_time(cT):\n",
    "    ext_time = int(str(cT)[2:4])\n",
    "    return ext_time"
   ]
  },
  {
   "cell_type": "code",
   "execution_count": 19,
   "id": "78308bbe",
   "metadata": {},
   "outputs": [],
   "source": [
    "df_train['click_day'] = df_train['clickTime'].apply(ext_day)\n",
    "df_train['click_time']= df_train['clickTime'].apply(ext_time)"
   ]
  },
  {
   "cell_type": "code",
   "execution_count": 20,
   "id": "1f7d9cc7",
   "metadata": {
    "scrolled": true
   },
   "outputs": [
    {
     "data": {
      "text/html": [
       "<div>\n",
       "<style scoped>\n",
       "    .dataframe tbody tr th:only-of-type {\n",
       "        vertical-align: middle;\n",
       "    }\n",
       "\n",
       "    .dataframe tbody tr th {\n",
       "        vertical-align: top;\n",
       "    }\n",
       "\n",
       "    .dataframe thead th {\n",
       "        text-align: right;\n",
       "    }\n",
       "</style>\n",
       "<table border=\"1\" class=\"dataframe\">\n",
       "  <thead>\n",
       "    <tr style=\"text-align: right;\">\n",
       "      <th></th>\n",
       "      <th>label</th>\n",
       "      <th>clickTime</th>\n",
       "      <th>conversionTime</th>\n",
       "      <th>creativeID</th>\n",
       "      <th>userID</th>\n",
       "      <th>positionID</th>\n",
       "      <th>connectionType</th>\n",
       "      <th>telecomsOperator</th>\n",
       "      <th>click_day</th>\n",
       "      <th>click_time</th>\n",
       "    </tr>\n",
       "  </thead>\n",
       "  <tbody>\n",
       "    <tr>\n",
       "      <th>0</th>\n",
       "      <td>0</td>\n",
       "      <td>170000</td>\n",
       "      <td>NaN</td>\n",
       "      <td>3089</td>\n",
       "      <td>2798058</td>\n",
       "      <td>293</td>\n",
       "      <td>1</td>\n",
       "      <td>1</td>\n",
       "      <td>17</td>\n",
       "      <td>0</td>\n",
       "    </tr>\n",
       "    <tr>\n",
       "      <th>1</th>\n",
       "      <td>0</td>\n",
       "      <td>170000</td>\n",
       "      <td>NaN</td>\n",
       "      <td>1259</td>\n",
       "      <td>463234</td>\n",
       "      <td>6161</td>\n",
       "      <td>1</td>\n",
       "      <td>2</td>\n",
       "      <td>17</td>\n",
       "      <td>0</td>\n",
       "    </tr>\n",
       "    <tr>\n",
       "      <th>2</th>\n",
       "      <td>0</td>\n",
       "      <td>170000</td>\n",
       "      <td>NaN</td>\n",
       "      <td>4465</td>\n",
       "      <td>1857485</td>\n",
       "      <td>7434</td>\n",
       "      <td>4</td>\n",
       "      <td>1</td>\n",
       "      <td>17</td>\n",
       "      <td>0</td>\n",
       "    </tr>\n",
       "    <tr>\n",
       "      <th>3</th>\n",
       "      <td>0</td>\n",
       "      <td>170000</td>\n",
       "      <td>NaN</td>\n",
       "      <td>1004</td>\n",
       "      <td>2038823</td>\n",
       "      <td>977</td>\n",
       "      <td>1</td>\n",
       "      <td>1</td>\n",
       "      <td>17</td>\n",
       "      <td>0</td>\n",
       "    </tr>\n",
       "    <tr>\n",
       "      <th>4</th>\n",
       "      <td>0</td>\n",
       "      <td>170000</td>\n",
       "      <td>NaN</td>\n",
       "      <td>1887</td>\n",
       "      <td>2015141</td>\n",
       "      <td>3688</td>\n",
       "      <td>1</td>\n",
       "      <td>1</td>\n",
       "      <td>17</td>\n",
       "      <td>0</td>\n",
       "    </tr>\n",
       "  </tbody>\n",
       "</table>\n",
       "</div>"
      ],
      "text/plain": [
       "   label  clickTime  conversionTime  creativeID   userID  positionID  \\\n",
       "0      0     170000             NaN        3089  2798058         293   \n",
       "1      0     170000             NaN        1259   463234        6161   \n",
       "2      0     170000             NaN        4465  1857485        7434   \n",
       "3      0     170000             NaN        1004  2038823         977   \n",
       "4      0     170000             NaN        1887  2015141        3688   \n",
       "\n",
       "   connectionType  telecomsOperator  click_day  click_time  \n",
       "0               1                 1         17           0  \n",
       "1               1                 2         17           0  \n",
       "2               4                 1         17           0  \n",
       "3               1                 1         17           0  \n",
       "4               1                 1         17           0  "
      ]
     },
     "execution_count": 20,
     "metadata": {},
     "output_type": "execute_result"
    }
   ],
   "source": [
    "df_train.head()"
   ]
  },
  {
   "cell_type": "markdown",
   "id": "42a5750c",
   "metadata": {},
   "source": [
    "Convert the clicktime to day and time in test file"
   ]
  },
  {
   "cell_type": "code",
   "execution_count": 21,
   "id": "654742c4",
   "metadata": {},
   "outputs": [],
   "source": [
    "df_test['click_day'] = df_test['clickTime'].apply(ext_day)\n",
    "df_test['click_time']= df_test['clickTime'].apply(ext_time)"
   ]
  },
  {
   "cell_type": "markdown",
   "id": "e6018c75",
   "metadata": {},
   "source": [
    "Visualize the CVR for training data by day"
   ]
  },
  {
   "cell_type": "code",
   "execution_count": 22,
   "id": "b5d8ec8e",
   "metadata": {},
   "outputs": [],
   "source": [
    "cvr_by_day = df_train.groupby(by = 'click_day',as_index=False)['label'].mean()"
   ]
  },
  {
   "cell_type": "code",
   "execution_count": 23,
   "id": "da77012d",
   "metadata": {},
   "outputs": [
    {
     "data": {
      "image/png": "[encoded data removed]",
      "text/plain": [
       "<Figure size 432x288 with 1 Axes>"
      ]
     },
     "metadata": {
      "needs_background": "light"
     },
     "output_type": "display_data"
    }
   ],
   "source": [
    "cvr_by_day.plot(x = 'click_day',y = 'label')\n",
    "plt.show()"
   ]
  },
  {
   "cell_type": "markdown",
   "id": "f4fcd4e9",
   "metadata": {},
   "source": [
    "### Feature extraction"
   ]
  },
  {
   "cell_type": "code",
   "execution_count": 24,
   "id": "7aadb3de",
   "metadata": {},
   "outputs": [],
   "source": [
    "#Load feature data\n",
    "df_Ad = pd.read_csv(\"./data/ad.csv\")\n",
    "df_appCat = pd.read_csv ('./data/app_categories.csv')\n"
   ]
  },
  {
   "cell_type": "markdown",
   "id": "6945ee7e",
   "metadata": {},
   "source": [
    "### app category"
   ]
  },
  {
   "cell_type": "code",
   "execution_count": 25,
   "id": "4c1268fd",
   "metadata": {},
   "outputs": [
    {
     "data": {
      "text/html": [
       "<div>\n",
       "<style scoped>\n",
       "    .dataframe tbody tr th:only-of-type {\n",
       "        vertical-align: middle;\n",
       "    }\n",
       "\n",
       "    .dataframe tbody tr th {\n",
       "        vertical-align: top;\n",
       "    }\n",
       "\n",
       "    .dataframe thead th {\n",
       "        text-align: right;\n",
       "    }\n",
       "</style>\n",
       "<table border=\"1\" class=\"dataframe\">\n",
       "  <thead>\n",
       "    <tr style=\"text-align: right;\">\n",
       "      <th></th>\n",
       "      <th>appID</th>\n",
       "      <th>appCategory</th>\n",
       "    </tr>\n",
       "  </thead>\n",
       "  <tbody>\n",
       "    <tr>\n",
       "      <th>0</th>\n",
       "      <td>14</td>\n",
       "      <td>2</td>\n",
       "    </tr>\n",
       "    <tr>\n",
       "      <th>1</th>\n",
       "      <td>25</td>\n",
       "      <td>203</td>\n",
       "    </tr>\n",
       "    <tr>\n",
       "      <th>2</th>\n",
       "      <td>68</td>\n",
       "      <td>104</td>\n",
       "    </tr>\n",
       "    <tr>\n",
       "      <th>3</th>\n",
       "      <td>75</td>\n",
       "      <td>402</td>\n",
       "    </tr>\n",
       "    <tr>\n",
       "      <th>4</th>\n",
       "      <td>83</td>\n",
       "      <td>203</td>\n",
       "    </tr>\n",
       "  </tbody>\n",
       "</table>\n",
       "</div>"
      ],
      "text/plain": [
       "   appID  appCategory\n",
       "0     14            2\n",
       "1     25          203\n",
       "2     68          104\n",
       "3     75          402\n",
       "4     83          203"
      ]
     },
     "execution_count": 25,
     "metadata": {},
     "output_type": "execute_result"
    }
   ],
   "source": [
    "df_appCat.head()"
   ]
  },
  {
   "cell_type": "code",
   "execution_count": 26,
   "id": "430b2e6a",
   "metadata": {},
   "outputs": [
    {
     "data": {
      "text/plain": [
       "<AxesSubplot:>"
      ]
     },
     "execution_count": 26,
     "metadata": {},
     "output_type": "execute_result"
    },
    {
     "data": {
      "image/png": "[encoded data removed]",
      "text/plain": [
       "<Figure size 432x288 with 1 Axes>"
      ]
     },
     "metadata": {
      "needs_background": "light"
     },
     "output_type": "display_data"
    }
   ],
   "source": [
    "df_appCat['appCategory'].hist (bins = 10) #can be removed"
   ]
  },
  {
   "cell_type": "markdown",
   "id": "c7fc59f2",
   "metadata": {},
   "source": [
    "App category is encoded with three digit, the left is the first category while the second and the third digits are the second category. The appCategory column therefore needs a dephycer. "
   ]
  },
  {
   "cell_type": "code",
   "execution_count": 27,
   "id": "0fddeb1a",
   "metadata": {},
   "outputs": [],
   "source": [
    "def cat_dephycer (cat):\n",
    "\n",
    "    first_type = []\n",
    "    second_type = []\n",
    "    \n",
    "    for i in range (0, len (cat)):\n",
    "        \n",
    "        if cat[i] ==0:\n",
    "            first_type.append (0)\n",
    "            second_type.append (0)\n",
    "        else:\n",
    "            first_type.append (cat[i]//100)\n",
    "            second_type.append (cat[i]%100)\n",
    "        \n",
    "    subcat = pd.DataFrame ({'first_cat':first_type, 'second_cat':second_type})\n",
    "    \n",
    "    return subcat\n",
    "    "
   ]
  },
  {
   "cell_type": "code",
   "execution_count": 28,
   "id": "12c6b7dc",
   "metadata": {},
   "outputs": [
    {
     "data": {
      "text/html": [
       "<div>\n",
       "<style scoped>\n",
       "    .dataframe tbody tr th:only-of-type {\n",
       "        vertical-align: middle;\n",
       "    }\n",
       "\n",
       "    .dataframe tbody tr th {\n",
       "        vertical-align: top;\n",
       "    }\n",
       "\n",
       "    .dataframe thead th {\n",
       "        text-align: right;\n",
       "    }\n",
       "</style>\n",
       "<table border=\"1\" class=\"dataframe\">\n",
       "  <thead>\n",
       "    <tr style=\"text-align: right;\">\n",
       "      <th></th>\n",
       "      <th>first_cat</th>\n",
       "      <th>second_cat</th>\n",
       "    </tr>\n",
       "  </thead>\n",
       "  <tbody>\n",
       "    <tr>\n",
       "      <th>0</th>\n",
       "      <td>0</td>\n",
       "      <td>2</td>\n",
       "    </tr>\n",
       "    <tr>\n",
       "      <th>1</th>\n",
       "      <td>2</td>\n",
       "      <td>3</td>\n",
       "    </tr>\n",
       "    <tr>\n",
       "      <th>2</th>\n",
       "      <td>1</td>\n",
       "      <td>4</td>\n",
       "    </tr>\n",
       "    <tr>\n",
       "      <th>3</th>\n",
       "      <td>4</td>\n",
       "      <td>2</td>\n",
       "    </tr>\n",
       "    <tr>\n",
       "      <th>4</th>\n",
       "      <td>2</td>\n",
       "      <td>3</td>\n",
       "    </tr>\n",
       "  </tbody>\n",
       "</table>\n",
       "</div>"
      ],
      "text/plain": [
       "   first_cat  second_cat\n",
       "0          0           2\n",
       "1          2           3\n",
       "2          1           4\n",
       "3          4           2\n",
       "4          2           3"
      ]
     },
     "execution_count": 28,
     "metadata": {},
     "output_type": "execute_result"
    }
   ],
   "source": [
    "df_subcat = cat_dephycer (df_appCat['appCategory'])\n",
    "df_subcat.head()"
   ]
  },
  {
   "cell_type": "code",
   "execution_count": 29,
   "id": "2fcd981f",
   "metadata": {},
   "outputs": [
    {
     "data": {
      "text/html": [
       "<div>\n",
       "<style scoped>\n",
       "    .dataframe tbody tr th:only-of-type {\n",
       "        vertical-align: middle;\n",
       "    }\n",
       "\n",
       "    .dataframe tbody tr th {\n",
       "        vertical-align: top;\n",
       "    }\n",
       "\n",
       "    .dataframe thead th {\n",
       "        text-align: right;\n",
       "    }\n",
       "</style>\n",
       "<table border=\"1\" class=\"dataframe\">\n",
       "  <thead>\n",
       "    <tr style=\"text-align: right;\">\n",
       "      <th></th>\n",
       "      <th>appID</th>\n",
       "      <th>appCategory</th>\n",
       "      <th>first_cat</th>\n",
       "      <th>second_cat</th>\n",
       "    </tr>\n",
       "  </thead>\n",
       "  <tbody>\n",
       "    <tr>\n",
       "      <th>0</th>\n",
       "      <td>14</td>\n",
       "      <td>2</td>\n",
       "      <td>0</td>\n",
       "      <td>2</td>\n",
       "    </tr>\n",
       "    <tr>\n",
       "      <th>1</th>\n",
       "      <td>25</td>\n",
       "      <td>203</td>\n",
       "      <td>2</td>\n",
       "      <td>3</td>\n",
       "    </tr>\n",
       "    <tr>\n",
       "      <th>2</th>\n",
       "      <td>68</td>\n",
       "      <td>104</td>\n",
       "      <td>1</td>\n",
       "      <td>4</td>\n",
       "    </tr>\n",
       "    <tr>\n",
       "      <th>3</th>\n",
       "      <td>75</td>\n",
       "      <td>402</td>\n",
       "      <td>4</td>\n",
       "      <td>2</td>\n",
       "    </tr>\n",
       "    <tr>\n",
       "      <th>4</th>\n",
       "      <td>83</td>\n",
       "      <td>203</td>\n",
       "      <td>2</td>\n",
       "      <td>3</td>\n",
       "    </tr>\n",
       "  </tbody>\n",
       "</table>\n",
       "</div>"
      ],
      "text/plain": [
       "   appID  appCategory  first_cat  second_cat\n",
       "0     14            2          0           2\n",
       "1     25          203          2           3\n",
       "2     68          104          1           4\n",
       "3     75          402          4           2\n",
       "4     83          203          2           3"
      ]
     },
     "execution_count": 29,
     "metadata": {},
     "output_type": "execute_result"
    }
   ],
   "source": [
    "#create a dataframe contains subcat info\n",
    "df_appCat2 =pd.concat([df_appCat, df_subcat], axis=1)\n",
    "df_appCat2.head()"
   ]
  },
  {
   "cell_type": "markdown",
   "id": "c9c210af",
   "metadata": {},
   "source": [
    "### User features"
   ]
  },
  {
   "cell_type": "code",
   "execution_count": 30,
   "id": "8f4b5efd",
   "metadata": {},
   "outputs": [],
   "source": [
    "df_users= pd.read_csv ('./data/user.csv')"
   ]
  },
  {
   "cell_type": "code",
   "execution_count": 31,
   "id": "aac52119",
   "metadata": {},
   "outputs": [
    {
     "data": {
      "text/plain": [
       "0"
      ]
     },
     "execution_count": 31,
     "metadata": {},
     "output_type": "execute_result"
    }
   ],
   "source": [
    "df_users['age'].isna().sum() #check if any missing value"
   ]
  },
  {
   "cell_type": "code",
   "execution_count": 32,
   "id": "72ec0bf4",
   "metadata": {},
   "outputs": [
    {
     "data": {
      "text/plain": [
       "0     294271\n",
       "15    150175\n",
       "16    120322\n",
       "17    115704\n",
       "19    115692\n",
       "       ...  \n",
       "76        85\n",
       "75        81\n",
       "72        77\n",
       "77        72\n",
       "79        55\n",
       "Name: age, Length: 81, dtype: int64"
      ]
     },
     "execution_count": 32,
     "metadata": {},
     "output_type": "execute_result"
    }
   ],
   "source": [
    "df_users.age.value_counts()# 0 means unknown"
   ]
  },
  {
   "cell_type": "code",
   "execution_count": 35,
   "id": "2cf6d787",
   "metadata": {},
   "outputs": [
    {
     "data": {
      "text/plain": [
       "<AxesSubplot:xlabel='age', ylabel='Count'>"
      ]
     },
     "execution_count": 35,
     "metadata": {},
     "output_type": "execute_result"
    },
    {
     "data": {
      "image/png": "[encoded data removed]",
      "text/plain": [
       "<Figure size 432x288 with 1 Axes>"
      ]
     },
     "metadata": {
      "needs_background": "light"
     },
     "output_type": "display_data"
    }
   ],
   "source": [
    "sns.histplot(df_users['age'],kde = False, bins = 30)"
   ]
  },
  {
   "cell_type": "markdown",
   "id": "903d34aa",
   "metadata": {},
   "source": [
    "##0 means unknown!"
   ]
  },
  {
   "cell_type": "code",
   "execution_count": 36,
   "id": "761bf429",
   "metadata": {},
   "outputs": [],
   "source": [
    "## a function to create subgroup for age:\n",
    "\n",
    "bins= [-1,0,10,20,40,60,110]\n",
    "labels = [0,1,2,3,4,6]\n",
    "df_users['ageGroup'] = pd.cut(df_users['age'], bins=bins, labels=labels, right=False)"
   ]
  },
  {
   "cell_type": "code",
   "execution_count": 37,
   "id": "8c2bc58b",
   "metadata": {},
   "outputs": [
    {
     "data": {
      "text/html": [
       "<div>\n",
       "<style scoped>\n",
       "    .dataframe tbody tr th:only-of-type {\n",
       "        vertical-align: middle;\n",
       "    }\n",
       "\n",
       "    .dataframe tbody tr th {\n",
       "        vertical-align: top;\n",
       "    }\n",
       "\n",
       "    .dataframe thead th {\n",
       "        text-align: right;\n",
       "    }\n",
       "</style>\n",
       "<table border=\"1\" class=\"dataframe\">\n",
       "  <thead>\n",
       "    <tr style=\"text-align: right;\">\n",
       "      <th></th>\n",
       "      <th>userID</th>\n",
       "      <th>age</th>\n",
       "      <th>gender</th>\n",
       "      <th>education</th>\n",
       "      <th>marriageStatus</th>\n",
       "      <th>haveBaby</th>\n",
       "      <th>hometown</th>\n",
       "      <th>residence</th>\n",
       "      <th>ageGroup</th>\n",
       "    </tr>\n",
       "  </thead>\n",
       "  <tbody>\n",
       "    <tr>\n",
       "      <th>0</th>\n",
       "      <td>1</td>\n",
       "      <td>42</td>\n",
       "      <td>1</td>\n",
       "      <td>0</td>\n",
       "      <td>2</td>\n",
       "      <td>0</td>\n",
       "      <td>512</td>\n",
       "      <td>503</td>\n",
       "      <td>4</td>\n",
       "    </tr>\n",
       "    <tr>\n",
       "      <th>1</th>\n",
       "      <td>2</td>\n",
       "      <td>18</td>\n",
       "      <td>1</td>\n",
       "      <td>5</td>\n",
       "      <td>1</td>\n",
       "      <td>0</td>\n",
       "      <td>1403</td>\n",
       "      <td>1403</td>\n",
       "      <td>2</td>\n",
       "    </tr>\n",
       "    <tr>\n",
       "      <th>2</th>\n",
       "      <td>3</td>\n",
       "      <td>0</td>\n",
       "      <td>2</td>\n",
       "      <td>4</td>\n",
       "      <td>0</td>\n",
       "      <td>0</td>\n",
       "      <td>0</td>\n",
       "      <td>0</td>\n",
       "      <td>1</td>\n",
       "    </tr>\n",
       "    <tr>\n",
       "      <th>3</th>\n",
       "      <td>4</td>\n",
       "      <td>21</td>\n",
       "      <td>2</td>\n",
       "      <td>5</td>\n",
       "      <td>3</td>\n",
       "      <td>0</td>\n",
       "      <td>607</td>\n",
       "      <td>607</td>\n",
       "      <td>3</td>\n",
       "    </tr>\n",
       "    <tr>\n",
       "      <th>4</th>\n",
       "      <td>5</td>\n",
       "      <td>22</td>\n",
       "      <td>2</td>\n",
       "      <td>0</td>\n",
       "      <td>0</td>\n",
       "      <td>0</td>\n",
       "      <td>0</td>\n",
       "      <td>1301</td>\n",
       "      <td>3</td>\n",
       "    </tr>\n",
       "  </tbody>\n",
       "</table>\n",
       "</div>"
      ],
      "text/plain": [
       "   userID  age  gender  education  marriageStatus  haveBaby  hometown  \\\n",
       "0       1   42       1          0               2         0       512   \n",
       "1       2   18       1          5               1         0      1403   \n",
       "2       3    0       2          4               0         0         0   \n",
       "3       4   21       2          5               3         0       607   \n",
       "4       5   22       2          0               0         0         0   \n",
       "\n",
       "   residence ageGroup  \n",
       "0        503        4  \n",
       "1       1403        2  \n",
       "2          0        1  \n",
       "3        607        3  \n",
       "4       1301        3  "
      ]
     },
     "execution_count": 37,
     "metadata": {},
     "output_type": "execute_result"
    }
   ],
   "source": [
    "df_users.head()"
   ]
  },
  {
   "cell_type": "markdown",
   "id": "17cde329",
   "metadata": {},
   "source": [
    "The model performance is usually characterized by the demographic distribution of the targeted audiences."
   ]
  },
  {
   "cell_type": "code",
   "execution_count": 43,
   "id": "1a253456",
   "metadata": {},
   "outputs": [],
   "source": [
    "def address_dephycer (hor):\n",
    "\n",
    "    prov = []\n",
    "    city = []\n",
    "    \n",
    "    for i in range (0, len (hor)):\n",
    "        \n",
    "        if hor[i] ==0:\n",
    "            prov.append (0)\n",
    "            city.append (0)\n",
    "        else:\n",
    "            prov.append (hor[i]//100)\n",
    "            city.append (hor[i]%100)\n",
    "        \n",
    "    subloc = prov,city\n",
    "    \n",
    "    return subloc"
   ]
  },
  {
   "cell_type": "code",
   "execution_count": 44,
   "id": "1334c8e9",
   "metadata": {},
   "outputs": [],
   "source": [
    "ht_province, ht_city = address_dephycer(df_users.hometown)"
   ]
  },
  {
   "cell_type": "code",
   "execution_count": 45,
   "id": "9b30bc42",
   "metadata": {},
   "outputs": [],
   "source": [
    "red_province, red_city = address_dephycer (df_users. residence)"
   ]
  },
  {
   "cell_type": "code",
   "execution_count": 48,
   "id": "d7e75e49",
   "metadata": {},
   "outputs": [],
   "source": [
    "df_subhor = pd.DataFrame ({\"home_prov\":ht_province,\n",
    "                           \"home_city\":ht_city,\n",
    "                           \"res_prov\":red_province, \n",
    "                           \"res_city\": red_city})"
   ]
  },
  {
   "cell_type": "code",
   "execution_count": 49,
   "id": "5f060487",
   "metadata": {
    "scrolled": true
   },
   "outputs": [
    {
     "data": {
      "text/html": [
       "<div>\n",
       "<style scoped>\n",
       "    .dataframe tbody tr th:only-of-type {\n",
       "        vertical-align: middle;\n",
       "    }\n",
       "\n",
       "    .dataframe tbody tr th {\n",
       "        vertical-align: top;\n",
       "    }\n",
       "\n",
       "    .dataframe thead th {\n",
       "        text-align: right;\n",
       "    }\n",
       "</style>\n",
       "<table border=\"1\" class=\"dataframe\">\n",
       "  <thead>\n",
       "    <tr style=\"text-align: right;\">\n",
       "      <th></th>\n",
       "      <th>userID</th>\n",
       "      <th>age</th>\n",
       "      <th>gender</th>\n",
       "      <th>education</th>\n",
       "      <th>marriageStatus</th>\n",
       "      <th>haveBaby</th>\n",
       "      <th>hometown</th>\n",
       "      <th>residence</th>\n",
       "      <th>ageGroup</th>\n",
       "      <th>home_prov</th>\n",
       "      <th>home_city</th>\n",
       "      <th>res_prov</th>\n",
       "      <th>res_city</th>\n",
       "    </tr>\n",
       "  </thead>\n",
       "  <tbody>\n",
       "    <tr>\n",
       "      <th>0</th>\n",
       "      <td>1</td>\n",
       "      <td>42</td>\n",
       "      <td>1</td>\n",
       "      <td>0</td>\n",
       "      <td>2</td>\n",
       "      <td>0</td>\n",
       "      <td>512</td>\n",
       "      <td>503</td>\n",
       "      <td>4</td>\n",
       "      <td>5</td>\n",
       "      <td>12</td>\n",
       "      <td>5</td>\n",
       "      <td>3</td>\n",
       "    </tr>\n",
       "    <tr>\n",
       "      <th>1</th>\n",
       "      <td>2</td>\n",
       "      <td>18</td>\n",
       "      <td>1</td>\n",
       "      <td>5</td>\n",
       "      <td>1</td>\n",
       "      <td>0</td>\n",
       "      <td>1403</td>\n",
       "      <td>1403</td>\n",
       "      <td>2</td>\n",
       "      <td>14</td>\n",
       "      <td>3</td>\n",
       "      <td>14</td>\n",
       "      <td>3</td>\n",
       "    </tr>\n",
       "    <tr>\n",
       "      <th>2</th>\n",
       "      <td>3</td>\n",
       "      <td>0</td>\n",
       "      <td>2</td>\n",
       "      <td>4</td>\n",
       "      <td>0</td>\n",
       "      <td>0</td>\n",
       "      <td>0</td>\n",
       "      <td>0</td>\n",
       "      <td>1</td>\n",
       "      <td>0</td>\n",
       "      <td>0</td>\n",
       "      <td>0</td>\n",
       "      <td>0</td>\n",
       "    </tr>\n",
       "    <tr>\n",
       "      <th>3</th>\n",
       "      <td>4</td>\n",
       "      <td>21</td>\n",
       "      <td>2</td>\n",
       "      <td>5</td>\n",
       "      <td>3</td>\n",
       "      <td>0</td>\n",
       "      <td>607</td>\n",
       "      <td>607</td>\n",
       "      <td>3</td>\n",
       "      <td>6</td>\n",
       "      <td>7</td>\n",
       "      <td>6</td>\n",
       "      <td>7</td>\n",
       "    </tr>\n",
       "    <tr>\n",
       "      <th>4</th>\n",
       "      <td>5</td>\n",
       "      <td>22</td>\n",
       "      <td>2</td>\n",
       "      <td>0</td>\n",
       "      <td>0</td>\n",
       "      <td>0</td>\n",
       "      <td>0</td>\n",
       "      <td>1301</td>\n",
       "      <td>3</td>\n",
       "      <td>0</td>\n",
       "      <td>0</td>\n",
       "      <td>13</td>\n",
       "      <td>1</td>\n",
       "    </tr>\n",
       "  </tbody>\n",
       "</table>\n",
       "</div>"
      ],
      "text/plain": [
       "   userID  age  gender  education  marriageStatus  haveBaby  hometown  \\\n",
       "0       1   42       1          0               2         0       512   \n",
       "1       2   18       1          5               1         0      1403   \n",
       "2       3    0       2          4               0         0         0   \n",
       "3       4   21       2          5               3         0       607   \n",
       "4       5   22       2          0               0         0         0   \n",
       "\n",
       "   residence ageGroup  home_prov  home_city  res_prov  res_city  \n",
       "0        503        4          5         12         5         3  \n",
       "1       1403        2         14          3        14         3  \n",
       "2          0        1          0          0         0         0  \n",
       "3        607        3          6          7         6         7  \n",
       "4       1301        3          0          0        13         1  "
      ]
     },
     "execution_count": 49,
     "metadata": {},
     "output_type": "execute_result"
    }
   ],
   "source": [
    "df_users2 = pd.concat ([df_users, df_subhor], axis = 1)\n",
    "df_users2.head()\n"
   ]
  },
  {
   "cell_type": "markdown",
   "id": "03790f54",
   "metadata": {},
   "source": [
    "## merge data"
   ]
  },
  {
   "cell_type": "code",
   "execution_count": 50,
   "id": "1954ccaa",
   "metadata": {},
   "outputs": [],
   "source": [
    "train_user = pd.merge(df_train,df_users2,on='userID')\n",
    "train_user_ad = pd.merge(train_user,df_Ad,on='creativeID')\n",
    "train_user_ad_app = pd.merge(train_user_ad,df_appCat2,on='appID')"
   ]
  },
  {
   "cell_type": "code",
   "execution_count": 51,
   "id": "8f6b9168",
   "metadata": {},
   "outputs": [
    {
     "data": {
      "text/html": [
       "<div>\n",
       "<style scoped>\n",
       "    .dataframe tbody tr th:only-of-type {\n",
       "        vertical-align: middle;\n",
       "    }\n",
       "\n",
       "    .dataframe tbody tr th {\n",
       "        vertical-align: top;\n",
       "    }\n",
       "\n",
       "    .dataframe thead th {\n",
       "        text-align: right;\n",
       "    }\n",
       "</style>\n",
       "<table border=\"1\" class=\"dataframe\">\n",
       "  <thead>\n",
       "    <tr style=\"text-align: right;\">\n",
       "      <th></th>\n",
       "      <th>label</th>\n",
       "      <th>clickTime</th>\n",
       "      <th>conversionTime</th>\n",
       "      <th>creativeID</th>\n",
       "      <th>userID</th>\n",
       "      <th>positionID</th>\n",
       "      <th>connectionType</th>\n",
       "      <th>telecomsOperator</th>\n",
       "      <th>click_day</th>\n",
       "      <th>click_time</th>\n",
       "      <th>...</th>\n",
       "      <th>res_prov</th>\n",
       "      <th>res_city</th>\n",
       "      <th>adID</th>\n",
       "      <th>camgaignID</th>\n",
       "      <th>advertiserID</th>\n",
       "      <th>appID</th>\n",
       "      <th>appPlatform</th>\n",
       "      <th>appCategory</th>\n",
       "      <th>first_cat</th>\n",
       "      <th>second_cat</th>\n",
       "    </tr>\n",
       "  </thead>\n",
       "  <tbody>\n",
       "    <tr>\n",
       "      <th>0</th>\n",
       "      <td>0</td>\n",
       "      <td>170000</td>\n",
       "      <td>NaN</td>\n",
       "      <td>3089</td>\n",
       "      <td>2798058</td>\n",
       "      <td>293</td>\n",
       "      <td>1</td>\n",
       "      <td>1</td>\n",
       "      <td>17</td>\n",
       "      <td>0</td>\n",
       "      <td>...</td>\n",
       "      <td>13</td>\n",
       "      <td>1</td>\n",
       "      <td>1321</td>\n",
       "      <td>83</td>\n",
       "      <td>10</td>\n",
       "      <td>434</td>\n",
       "      <td>1</td>\n",
       "      <td>108</td>\n",
       "      <td>1</td>\n",
       "      <td>8</td>\n",
       "    </tr>\n",
       "    <tr>\n",
       "      <th>1</th>\n",
       "      <td>0</td>\n",
       "      <td>170001</td>\n",
       "      <td>NaN</td>\n",
       "      <td>3089</td>\n",
       "      <td>195578</td>\n",
       "      <td>3659</td>\n",
       "      <td>0</td>\n",
       "      <td>2</td>\n",
       "      <td>17</td>\n",
       "      <td>0</td>\n",
       "      <td>...</td>\n",
       "      <td>13</td>\n",
       "      <td>1</td>\n",
       "      <td>1321</td>\n",
       "      <td>83</td>\n",
       "      <td>10</td>\n",
       "      <td>434</td>\n",
       "      <td>1</td>\n",
       "      <td>108</td>\n",
       "      <td>1</td>\n",
       "      <td>8</td>\n",
       "    </tr>\n",
       "    <tr>\n",
       "      <th>2</th>\n",
       "      <td>0</td>\n",
       "      <td>170014</td>\n",
       "      <td>NaN</td>\n",
       "      <td>3089</td>\n",
       "      <td>1462213</td>\n",
       "      <td>3659</td>\n",
       "      <td>0</td>\n",
       "      <td>3</td>\n",
       "      <td>17</td>\n",
       "      <td>0</td>\n",
       "      <td>...</td>\n",
       "      <td>13</td>\n",
       "      <td>1</td>\n",
       "      <td>1321</td>\n",
       "      <td>83</td>\n",
       "      <td>10</td>\n",
       "      <td>434</td>\n",
       "      <td>1</td>\n",
       "      <td>108</td>\n",
       "      <td>1</td>\n",
       "      <td>8</td>\n",
       "    </tr>\n",
       "    <tr>\n",
       "      <th>3</th>\n",
       "      <td>0</td>\n",
       "      <td>170030</td>\n",
       "      <td>NaN</td>\n",
       "      <td>3089</td>\n",
       "      <td>1985880</td>\n",
       "      <td>5581</td>\n",
       "      <td>1</td>\n",
       "      <td>1</td>\n",
       "      <td>17</td>\n",
       "      <td>0</td>\n",
       "      <td>...</td>\n",
       "      <td>0</td>\n",
       "      <td>0</td>\n",
       "      <td>1321</td>\n",
       "      <td>83</td>\n",
       "      <td>10</td>\n",
       "      <td>434</td>\n",
       "      <td>1</td>\n",
       "      <td>108</td>\n",
       "      <td>1</td>\n",
       "      <td>8</td>\n",
       "    </tr>\n",
       "    <tr>\n",
       "      <th>4</th>\n",
       "      <td>0</td>\n",
       "      <td>170047</td>\n",
       "      <td>NaN</td>\n",
       "      <td>3089</td>\n",
       "      <td>2152167</td>\n",
       "      <td>5581</td>\n",
       "      <td>1</td>\n",
       "      <td>1</td>\n",
       "      <td>17</td>\n",
       "      <td>0</td>\n",
       "      <td>...</td>\n",
       "      <td>13</td>\n",
       "      <td>3</td>\n",
       "      <td>1321</td>\n",
       "      <td>83</td>\n",
       "      <td>10</td>\n",
       "      <td>434</td>\n",
       "      <td>1</td>\n",
       "      <td>108</td>\n",
       "      <td>1</td>\n",
       "      <td>8</td>\n",
       "    </tr>\n",
       "  </tbody>\n",
       "</table>\n",
       "<p>5 rows × 30 columns</p>\n",
       "</div>"
      ],
      "text/plain": [
       "   label  clickTime  conversionTime  creativeID   userID  positionID  \\\n",
       "0      0     170000             NaN        3089  2798058         293   \n",
       "1      0     170001             NaN        3089   195578        3659   \n",
       "2      0     170014             NaN        3089  1462213        3659   \n",
       "3      0     170030             NaN        3089  1985880        5581   \n",
       "4      0     170047             NaN        3089  2152167        5581   \n",
       "\n",
       "   connectionType  telecomsOperator  click_day  click_time  ...  res_prov  \\\n",
       "0               1                 1         17           0  ...        13   \n",
       "1               0                 2         17           0  ...        13   \n",
       "2               0                 3         17           0  ...        13   \n",
       "3               1                 1         17           0  ...         0   \n",
       "4               1                 1         17           0  ...        13   \n",
       "\n",
       "   res_city  adID  camgaignID  advertiserID  appID  appPlatform appCategory  \\\n",
       "0         1  1321          83            10    434            1         108   \n",
       "1         1  1321          83            10    434            1         108   \n",
       "2         1  1321          83            10    434            1         108   \n",
       "3         0  1321          83            10    434            1         108   \n",
       "4         3  1321          83            10    434            1         108   \n",
       "\n",
       "   first_cat  second_cat  \n",
       "0          1           8  \n",
       "1          1           8  \n",
       "2          1           8  \n",
       "3          1           8  \n",
       "4          1           8  \n",
       "\n",
       "[5 rows x 30 columns]"
      ]
     },
     "execution_count": 51,
     "metadata": {},
     "output_type": "execute_result"
    }
   ],
   "source": [
    "train_user_ad_app.head()"
   ]
  },
  {
   "cell_type": "code",
   "execution_count": 55,
   "id": "21157828",
   "metadata": {},
   "outputs": [
    {
     "data": {
      "text/plain": [
       "Text(0.5, 0, 'AgeGroup')"
      ]
     },
     "execution_count": 55,
     "metadata": {},
     "output_type": "execute_result"
    },
    {
     "data": {
      "image/png": "[encoded data removed]",
      "text/plain": [
       "<Figure size 720x432 with 1 Axes>"
      ]
     },
     "metadata": {
      "needs_background": "light"
     },
     "output_type": "display_data"
    }
   ],
   "source": [
    "plt.figure(figsize=(10,6)) # can be removed\n",
    "train_user_ad_app[train_user_ad_app ['label']==1]['ageGroup'].hist(alpha=0.5,color='blue',\n",
    "                                              bins=30,label='label=1')\n",
    "#train_user_ad_app[train_user_ad_app ['label']==0]['ageGroup'].hist(alpha=0.5,color='red',\n",
    "                                              #bins=30,label='label=0')\n",
    "plt.legend()\n",
    "plt.xlabel('AgeGroup')"
   ]
  },
  {
   "cell_type": "code",
   "execution_count": 56,
   "id": "fe609ca1",
   "metadata": {},
   "outputs": [
    {
     "data": {
      "text/plain": [
       "Text(0.5, 0, 'click_time')"
      ]
     },
     "execution_count": 56,
     "metadata": {},
     "output_type": "execute_result"
    },
    {
     "data": {
      "image/png": "[encoded data removed]",
      "text/plain": [
       "<Figure size 720x432 with 1 Axes>"
      ]
     },
     "metadata": {
      "needs_background": "light"
     },
     "output_type": "display_data"
    }
   ],
   "source": [
    "plt.figure(figsize=(10,6))\n",
    "train_user_ad_app[train_user_ad_app['label']==1]['click_time'].hist(alpha=0.5,color='blue',\n",
    "                                              bins=30,label='label=1')\n",
    "#train_user_ad_app[train_user_ad_app['label']==0]['click_time'].hist(alpha=0.5,color='red',\n",
    "                                              #bins=30,label='label=1')\n",
    "#plt.legend()\n",
    "plt.xlabel('click_time')"
   ]
  },
  {
   "cell_type": "code",
   "execution_count": 57,
   "id": "6425327c",
   "metadata": {},
   "outputs": [
    {
     "data": {
      "text/plain": [
       "Text(0.5, 0, 'res_prov')"
      ]
     },
     "execution_count": 57,
     "metadata": {},
     "output_type": "execute_result"
    },
    {
     "data": {
      "image/png": "[encoded data removed]",
      "text/plain": [
       "<Figure size 720x432 with 1 Axes>"
      ]
     },
     "metadata": {
      "needs_background": "light"
     },
     "output_type": "display_data"
    }
   ],
   "source": [
    "plt.figure(figsize=(10,6))\n",
    "train_user_ad_app[train_user_ad_app['label']==1]['res_prov'].hist(alpha=0.5,color='blue',\n",
    "                                              bins=30,label='label=1')\n",
    "#train_user_ad_app[train_user_ad_app['label']==0]['res_prov'].hist(alpha=0.5,color='red',\n",
    "                                              #bins=30,label='label=0')\n",
    "#plt.legend()\n",
    "plt.xlabel('res_prov')"
   ]
  },
  {
   "cell_type": "markdown",
   "id": "39e83207",
   "metadata": {},
   "source": [
    "check the probability and log_loss for naive prediction"
   ]
  },
  {
   "cell_type": "code",
   "execution_count": 98,
   "id": "28f9bf38",
   "metadata": {},
   "outputs": [
    {
     "name": "stdout",
     "output_type": "stream",
     "text": [
      "Baseline: Log Loss=0.119\n"
     ]
    }
   ],
   "source": [
    "bi_prob = [[0.975, 0.025] for _ in range(len(y_test))]\n",
    "avg_logloss = log_loss(y_test, bi_prob)\n",
    "print('Baseline: Log Loss=%.3f' % (avg_logloss))\n",
    "#baseline: 0.119"
   ]
  },
  {
   "cell_type": "markdown",
   "id": "b0d6e9fb",
   "metadata": {},
   "source": [
    "## 3. Model selections and validation"
   ]
  },
  {
   "cell_type": "markdown",
   "id": "820c4679",
   "metadata": {},
   "source": [
    "### prepare training data for model selection"
   ]
  },
  {
   "cell_type": "code",
   "execution_count": 58,
   "id": "3c3716cf",
   "metadata": {},
   "outputs": [
    {
     "data": {
      "text/plain": [
       "Index(['label', 'clickTime', 'conversionTime', 'creativeID', 'userID',\n",
       "       'positionID', 'connectionType', 'telecomsOperator', 'click_day',\n",
       "       'click_time', 'age', 'gender', 'education', 'marriageStatus',\n",
       "       'haveBaby', 'hometown', 'residence', 'ageGroup', 'home_prov',\n",
       "       'home_city', 'res_prov', 'res_city', 'adID', 'camgaignID',\n",
       "       'advertiserID', 'appID', 'appPlatform', 'appCategory', 'first_cat',\n",
       "       'second_cat'],\n",
       "      dtype='object')"
      ]
     },
     "execution_count": 58,
     "metadata": {},
     "output_type": "execute_result"
    }
   ],
   "source": [
    "train_user_ad_app.columns"
   ]
  },
  {
   "cell_type": "code",
   "execution_count": 61,
   "id": "4fd5c239",
   "metadata": {},
   "outputs": [],
   "source": [
    "fea_list = [ 'creativeID', 'userID',\n",
    "       'positionID', 'connectionType', 'telecomsOperator', 'click_day',\n",
    "       'click_time', 'age', 'gender', 'education', 'marriageStatus',\n",
    "       'haveBaby', 'ageGroup', 'home_prov',\n",
    "       'home_city', 'res_prov', 'res_city', 'adID', 'camgaignID',\n",
    "       'advertiserID', 'appID', 'appPlatform', 'appCategory', 'first_cat',\n",
    "       'second_cat']"
   ]
  },
  {
   "cell_type": "markdown",
   "id": "97fb631a",
   "metadata": {},
   "source": [
    "This dataset is a time serie data, the newer data should not be used to predict the older data. \n",
    "the dataset was split by time"
   ]
  },
  {
   "cell_type": "code",
   "execution_count": 62,
   "id": "73106c36",
   "metadata": {},
   "outputs": [],
   "source": [
    "\n",
    "df_all_train = train_user_ad_app [train_user_ad_app.click_day < 25]\n",
    "df_all_val = train_user_ad_app [(train_user_ad_app.click_day >24) & (train_user_ad_app.click_day <28)]\n",
    "df_all_test = train_user_ad_app[(train_user_ad_app.click_day>27)& (train_user_ad_app.click_day<30)]\n",
    "\n",
    "X_train = np.array (df_all_train[fea_list],dtype = 'int32')\n",
    "\n",
    "X_val = np.array (df_all_val[fea_list],dtype = 'int32')\n",
    "\n",
    "X_test = np.array (df_all_test[fea_list],dtype = 'int32')\n",
    "\n",
    "y_train = df_all_train ['label']\n",
    "\n",
    "y_val = df_all_val ['label']\n",
    "\n",
    "y_test = df_all_test ['label']"
   ]
  },
  {
   "cell_type": "code",
   "execution_count": 63,
   "id": "e72c7dbd",
   "metadata": {},
   "outputs": [],
   "source": [
    "##apply scaler"
   ]
  },
  {
   "cell_type": "code",
   "execution_count": 68,
   "id": "b20a0382",
   "metadata": {},
   "outputs": [],
   "source": [
    "from sklearn.preprocessing import StandardScaler"
   ]
  },
  {
   "cell_type": "code",
   "execution_count": 69,
   "id": "a7d058f1",
   "metadata": {},
   "outputs": [],
   "source": [
    "scaler = StandardScaler()\n",
    "X_train = scaler.fit_transform (X_train)\n",
    "X_val = scaler.transform (X_val)\n",
    "X_test = scaler.transform (X_test)"
   ]
  },
  {
   "cell_type": "code",
   "execution_count": 70,
   "id": "62720828",
   "metadata": {},
   "outputs": [
    {
     "name": "stdout",
     "output_type": "stream",
     "text": [
      "X_train dimension: (1973356, 25)\n",
      "X_val dimension: (861372, 25)\n",
      "X_test dimension: (580403, 25)\n"
     ]
    }
   ],
   "source": [
    "print ('X_train dimension:',X_train.shape)\n",
    "print ('X_val dimension:',X_val.shape)\n",
    "print ('X_test dimension:', X_test.shape)"
   ]
  },
  {
   "cell_type": "markdown",
   "id": "94c66a2c",
   "metadata": {},
   "source": [
    "### Fit the first random forest classifier"
   ]
  },
  {
   "cell_type": "code",
   "execution_count": 82,
   "id": "fc5dbd69",
   "metadata": {},
   "outputs": [],
   "source": [
    "from sklearn.ensemble import RandomForestClassifier\n",
    "from sklearn.metrics import log_loss"
   ]
  },
  {
   "cell_type": "code",
   "execution_count": 72,
   "id": "8ff0d082",
   "metadata": {},
   "outputs": [
    {
     "data": {
      "text/plain": [
       "RandomForestClassifier(class_weight='balanced_subsample', n_estimators=500,\n",
       "                       n_jobs=-1, random_state=0)"
      ]
     },
     "execution_count": 72,
     "metadata": {},
     "output_type": "execute_result"
    }
   ],
   "source": [
    "rfc = RandomForestClassifier(random_state=0, \n",
    "                             n_jobs=-1, \n",
    "                             n_estimators=500, \n",
    "                             class_weight=\"balanced_subsample\")\n",
    "rfc.fit(X_train, y_train)"
   ]
  },
  {
   "cell_type": "code",
   "execution_count": 73,
   "id": "671ccade",
   "metadata": {},
   "outputs": [],
   "source": [
    "importances_rfc1 = rfc.feature_importances_\n",
    "\n",
    "indices_rfc1 = np.argsort(importances_rfc1)[::-1]"
   ]
  },
  {
   "cell_type": "code",
   "execution_count": 74,
   "id": "8ccd53c3",
   "metadata": {},
   "outputs": [
    {
     "data": {
      "text/plain": [
       "array([0.0400726 , 0.11406049, 0.08129979, 0.03889858, 0.02534686,\n",
       "       0.04563041, 0.07700522, 0.06943604, 0.01386067, 0.03990342,\n",
       "       0.02523754, 0.0147087 , 0.01139273, 0.04932134, 0.04496558,\n",
       "       0.06808084, 0.05996724, 0.02964867, 0.02803265, 0.03491637,\n",
       "       0.03417702, 0.00408449, 0.02003621, 0.01321941, 0.01669715])"
      ]
     },
     "execution_count": 74,
     "metadata": {},
     "output_type": "execute_result"
    }
   ],
   "source": [
    "importances_rfc1"
   ]
  },
  {
   "cell_type": "code",
   "execution_count": 75,
   "id": "dd994971",
   "metadata": {},
   "outputs": [
    {
     "data": {
      "text/plain": [
       "array([ 1,  2,  6,  7, 15, 16, 13,  5, 14,  0,  9,  3, 19, 20, 17, 18,  4,\n",
       "       10, 22, 24, 11,  8, 23, 12, 21])"
      ]
     },
     "execution_count": 75,
     "metadata": {},
     "output_type": "execute_result"
    }
   ],
   "source": [
    "indices_rfc1"
   ]
  },
  {
   "cell_type": "code",
   "execution_count": 76,
   "id": "98d22f88",
   "metadata": {},
   "outputs": [
    {
     "data": {
      "text/plain": [
       "array(['userID', 'positionID', 'click_time', 'age', 'res_prov',\n",
       "       'res_city', 'home_prov', 'click_day', 'home_city', 'creativeID',\n",
       "       'education', 'connectionType', 'advertiserID', 'appID', 'adID',\n",
       "       'camgaignID', 'telecomsOperator', 'marriageStatus', 'appCategory',\n",
       "       'second_cat', 'haveBaby', 'gender', 'first_cat', 'ageGroup',\n",
       "       'appPlatform'], dtype='<U16')"
      ]
     },
     "execution_count": 76,
     "metadata": {},
     "output_type": "execute_result"
    }
   ],
   "source": [
    "np.array(fea_list)[indices_rfc1]"
   ]
  },
  {
   "cell_type": "code",
   "execution_count": 79,
   "id": "fc7245a5",
   "metadata": {},
   "outputs": [
    {
     "name": "stdout",
     "output_type": "stream",
     "text": [
      " 1) userID                         0.114060\n",
      " 2) positionID                     0.081300\n",
      " 3) click_time                     0.077005\n",
      " 4) age                            0.069436\n",
      " 5) res_prov                       0.068081\n",
      " 6) res_city                       0.059967\n",
      " 7) home_prov                      0.049321\n",
      " 8) click_day                      0.045630\n",
      " 9) home_city                      0.044966\n",
      "10) creativeID                     0.040073\n",
      "11) education                      0.039903\n",
      "12) connectionType                 0.038899\n",
      "13) advertiserID                   0.034916\n",
      "14) appID                          0.034177\n",
      "15) adID                           0.029649\n",
      "16) camgaignID                     0.028033\n",
      "17) telecomsOperator               0.025347\n",
      "18) marriageStatus                 0.025238\n",
      "19) appCategory                    0.020036\n",
      "20) second_cat                     0.016697\n",
      "21) haveBaby                       0.014709\n",
      "22) gender                         0.013861\n",
      "23) first_cat                      0.013219\n",
      "24) ageGroup                       0.011393\n",
      "25) appPlatform                    0.004084\n"
     ]
    },
    {
     "data": {
      "image/png": "[encoded data removed]",
      "text/plain": [
       "<Figure size 432x288 with 1 Axes>"
      ]
     },
     "metadata": {
      "needs_background": "light"
     },
     "output_type": "display_data"
    }
   ],
   "source": [
    "for i in range(len(importances_rfc1)):\n",
    "    print(\"%2d) %-*s %f\" % (i + 1, 30, \n",
    "                            fea_list[indices_rfc1[i]], \n",
    "                            importances_rfc1[indices_rfc1[i]]))\n",
    "\n",
    "plt.title('Feature Importances')\n",
    "plt.bar(range(len(importances_rfc1)), \n",
    "        importances_rfc1[indices_rfc1],\n",
    "        color='lightblue', \n",
    "        align='center')\n",
    "\n",
    "plt.xticks(range(len(importances_rfc1)), \n",
    "           np.array(fea_list)[indices_rfc1], rotation=90)\n",
    "\n",
    "plt.xlim([-1, len(importances_rfc1)])\n",
    "plt.tight_layout()\n",
    "\n",
    "plt.show()"
   ]
  },
  {
   "cell_type": "markdown",
   "id": "bd0dacca",
   "metadata": {},
   "source": [
    "### prediction loss function"
   ]
  },
  {
   "cell_type": "code",
   "execution_count": 80,
   "id": "49b14e2c",
   "metadata": {},
   "outputs": [],
   "source": [
    "rfc_pred1 = rfc.predict  (X_test)\n",
    "rfc_probab1 = rfc.predict_proba(X_test)[:,1]"
   ]
  },
  {
   "cell_type": "code",
   "execution_count": 83,
   "id": "4369ce90",
   "metadata": {},
   "outputs": [],
   "source": [
    "rfc_ll = log_loss (y_test, rfc_probab1)"
   ]
  },
  {
   "cell_type": "code",
   "execution_count": 84,
   "id": "76700866",
   "metadata": {},
   "outputs": [
    {
     "name": "stdout",
     "output_type": "stream",
     "text": [
      "0.11674123594775218\n"
     ]
    }
   ],
   "source": [
    "print (rfc_ll)"
   ]
  },
  {
   "cell_type": "code",
   "execution_count": 85,
   "id": "50581e31",
   "metadata": {},
   "outputs": [
    {
     "name": "stdout",
     "output_type": "stream",
     "text": [
      "              precision    recall  f1-score   support\n",
      "\n",
      "           0       0.97      1.00      0.99    565598\n",
      "           1       0.10      0.00      0.00     14805\n",
      "\n",
      "    accuracy                           0.97    580403\n",
      "   macro avg       0.53      0.50      0.49    580403\n",
      "weighted avg       0.95      0.97      0.96    580403\n",
      "\n",
      "[[565579     19]\n",
      " [ 14803      2]]\n"
     ]
    }
   ],
   "source": [
    "from sklearn.metrics import classification_report,confusion_matrix\n",
    "print(classification_report(y_test,rfc_pred1))\n",
    "print (confusion_matrix (y_test, rfc_pred1))"
   ]
  },
  {
   "cell_type": "markdown",
   "id": "85cd99b6",
   "metadata": {},
   "source": [
    "### deal with imbalanced classes"
   ]
  },
  {
   "cell_type": "code",
   "execution_count": 86,
   "id": "6b9e9fb2",
   "metadata": {},
   "outputs": [],
   "source": [
    "import imblearn"
   ]
  },
  {
   "cell_type": "code",
   "execution_count": 87,
   "id": "583ce549",
   "metadata": {},
   "outputs": [],
   "source": [
    "##use over sampling "
   ]
  },
  {
   "cell_type": "code",
   "execution_count": 88,
   "id": "f27d9a77",
   "metadata": {},
   "outputs": [],
   "source": [
    "from imblearn.over_sampling import SMOTE"
   ]
  },
  {
   "cell_type": "code",
   "execution_count": 89,
   "id": "061798c0",
   "metadata": {},
   "outputs": [],
   "source": [
    "smote= SMOTE()"
   ]
  },
  {
   "cell_type": "code",
   "execution_count": 90,
   "id": "2f553344",
   "metadata": {},
   "outputs": [],
   "source": [
    "x_sm,y_sm = smote.fit_resample(X_train,  y_train)"
   ]
  },
  {
   "cell_type": "code",
   "execution_count": 91,
   "id": "1fa41178",
   "metadata": {},
   "outputs": [
    {
     "data": {
      "text/plain": [
       "RandomForestClassifier(class_weight='balanced_subsample', n_estimators=50,\n",
       "                       n_jobs=-1, random_state=0)"
      ]
     },
     "execution_count": 91,
     "metadata": {},
     "output_type": "execute_result"
    }
   ],
   "source": [
    "rfc2 = RandomForestClassifier(random_state=0, \n",
    "                              n_jobs=-1, \n",
    "                              n_estimators=50, \n",
    "                              class_weight=\"balanced_subsample\")\n",
    "rfc2.fit(x_sm, y_sm)"
   ]
  },
  {
   "cell_type": "code",
   "execution_count": 92,
   "id": "0ccb5969",
   "metadata": {},
   "outputs": [
    {
     "name": "stdout",
     "output_type": "stream",
     "text": [
      "              precision    recall  f1-score   support\n",
      "\n",
      "           0       0.97      1.00      0.99    565598\n",
      "           1       0.18      0.01      0.02     14805\n",
      "\n",
      "    accuracy                           0.97    580403\n",
      "   macro avg       0.58      0.50      0.50    580403\n",
      "weighted avg       0.95      0.97      0.96    580403\n",
      "\n",
      "[[564990    608]\n",
      " [ 14675    130]]\n"
     ]
    }
   ],
   "source": [
    "rfc2_pred = rfc2.predict  (X_test)\n",
    "print(classification_report(y_test,rfc2_pred))\n",
    "print (confusion_matrix (y_test, rfc2_pred))"
   ]
  },
  {
   "cell_type": "code",
   "execution_count": 93,
   "id": "c20475a4",
   "metadata": {},
   "outputs": [
    {
     "name": "stdout",
     "output_type": "stream",
     "text": [
      "0.20166031056056383\n"
     ]
    }
   ],
   "source": [
    "rfc2_proba = rfc2.predict_proba(X_test)[:,1]\n",
    "rfc2_ll = log_loss (y_test, rfc2_proba)\n",
    "print (rfc2_ll)"
   ]
  },
  {
   "cell_type": "code",
   "execution_count": 450,
   "id": "72837b85",
   "metadata": {},
   "outputs": [
    {
     "name": "stdout",
     "output_type": "stream",
     "text": [
      "Collecting package metadata (current_repodata.json): done\n",
      "Solving environment: done\n",
      "\n",
      "## Package Plan ##\n",
      "\n",
      "  environment location: /Users/ttian/opt/anaconda3\n",
      "\n",
      "  added / updated specs:\n",
      "    - lightgbm\n",
      "\n",
      "\n",
      "The following packages will be downloaded:\n",
      "\n",
      "    package                    |            build\n",
      "    ---------------------------|-----------------\n",
      "    lightgbm-3.3.2             |   py39h1e675f4_0         1.2 MB  conda-forge\n",
      "    ------------------------------------------------------------\n",
      "                                           Total:         1.2 MB\n",
      "\n",
      "The following NEW packages will be INSTALLED:\n",
      "\n",
      "  lightgbm           conda-forge/osx-64::lightgbm-3.3.2-py39h1e675f4_0\n",
      "\n",
      "\n",
      "\n",
      "Downloading and Extracting Packages\n",
      "lightgbm-3.3.2       | 1.2 MB    | ##################################### | 100% \n",
      "Preparing transaction: done\n",
      "Verifying transaction: done\n",
      "Executing transaction: done\n",
      "\n",
      "Note: you may need to restart the kernel to use updated packages.\n"
     ]
    }
   ],
   "source": [
    "conda install -c conda-forge lightgbm"
   ]
  },
  {
   "cell_type": "code",
   "execution_count": 94,
   "id": "85ce6897",
   "metadata": {},
   "outputs": [],
   "source": [
    "import lightgbm as lgb\n"
   ]
  },
  {
   "cell_type": "code",
   "execution_count": 95,
   "id": "371b37f3",
   "metadata": {},
   "outputs": [],
   "source": [
    "def valClassifierLGBM(x_train,y_train,x_val,y_val):\n",
    "    \n",
    "    print('starting training')\n",
    "    lgb_train = lgb.Dataset(x_train, y_train,free_raw_data = False)\n",
    "    lgb_val = lgb.Dataset(x_val, y_val,free_raw_data = False)\n",
    "    params = {\n",
    "        'task': 'train',\n",
    "        'boosting_type': 'gbdt', #GradientBoostingDecisionTree\n",
    "        'objective': 'binary',\n",
    "        'metric': ['auc','binary_logloss'],\n",
    "        #'max_depth':3,\n",
    "        'num_leaves': 2500, \n",
    "        #'max_depth':8, # it is necessary to tune num_leaves with the max_depth together, num_leaves = 2^(max_depth)\n",
    "        #'max_bin':150,  \n",
    "        'learning_rate': 0.04,\n",
    "        'feature_fraction': 0.4,\n",
    "        'lambda_l1': 0.5,\n",
    "        'lambda_l2': 0.5, #use lambda to tackle with overfitting risk\n",
    "        #'is_unbalance': True,\n",
    "        #'bagging_fraction': 0.85,this value only in use when use RF\n",
    "        #'bagging_freq': 5,\n",
    "        'verbose': 0,\n",
    "        #'early_stopping_round':500\n",
    "    }\n",
    "    \n",
    "    #origin:learning_rate': 0.02，num_boost_round=700,'num_leaves': 1000\n",
    "    \n",
    "    lgbm = lgb.train(params,\n",
    "                lgb_train,valid_sets=lgb_val,\n",
    "                num_boost_round=700)\n",
    "    \n",
    "    print(params)\n",
    "    \n",
    "    return lgbm"
   ]
  },
  {
   "cell_type": "code",
   "execution_count": 96,
   "id": "deda83a9",
   "metadata": {
    "scrolled": true
   },
   "outputs": [
    {
     "name": "stdout",
     "output_type": "stream",
     "text": [
      "starting training\n",
      "[LightGBM] [Warning] Auto-choosing row-wise multi-threading, the overhead of testing was 0.070995 seconds.\n",
      "You can set `force_row_wise=true` to remove the overhead.\n",
      "And if memory is not enough, you can set `force_col_wise=true`.\n",
      "[1]\tvalid_0's auc: 0.716328\tvalid_0's binary_logloss: 0.120731\n",
      "[2]\tvalid_0's auc: 0.721731\tvalid_0's binary_logloss: 0.119854\n",
      "[3]\tvalid_0's auc: 0.731888\tvalid_0's binary_logloss: 0.118948\n",
      "[4]\tvalid_0's auc: 0.742635\tvalid_0's binary_logloss: 0.118112\n",
      "[5]\tvalid_0's auc: 0.746017\tvalid_0's binary_logloss: 0.117592\n",
      "[6]\tvalid_0's auc: 0.743545\tvalid_0's binary_logloss: 0.117147\n",
      "[7]\tvalid_0's auc: 0.744858\tvalid_0's binary_logloss: 0.116672\n",
      "[8]\tvalid_0's auc: 0.745594\tvalid_0's binary_logloss: 0.116422\n",
      "[9]\tvalid_0's auc: 0.744396\tvalid_0's binary_logloss: 0.116135\n",
      "[10]\tvalid_0's auc: 0.74336\tvalid_0's binary_logloss: 0.11581\n",
      "[11]\tvalid_0's auc: 0.746963\tvalid_0's binary_logloss: 0.115395\n",
      "[12]\tvalid_0's auc: 0.747598\tvalid_0's binary_logloss: 0.115068\n",
      "[13]\tvalid_0's auc: 0.747413\tvalid_0's binary_logloss: 0.114791\n",
      "[14]\tvalid_0's auc: 0.750315\tvalid_0's binary_logloss: 0.114403\n",
      "[15]\tvalid_0's auc: 0.752418\tvalid_0's binary_logloss: 0.114038\n",
      "[16]\tvalid_0's auc: 0.752409\tvalid_0's binary_logloss: 0.113812\n",
      "[17]\tvalid_0's auc: 0.752071\tvalid_0's binary_logloss: 0.113605\n",
      "[18]\tvalid_0's auc: 0.75304\tvalid_0's binary_logloss: 0.113352\n",
      "[19]\tvalid_0's auc: 0.752472\tvalid_0's binary_logloss: 0.113218\n",
      "[20]\tvalid_0's auc: 0.752091\tvalid_0's binary_logloss: 0.113083\n",
      "[21]\tvalid_0's auc: 0.753474\tvalid_0's binary_logloss: 0.112842\n",
      "[22]\tvalid_0's auc: 0.753595\tvalid_0's binary_logloss: 0.112673\n",
      "[23]\tvalid_0's auc: 0.754349\tvalid_0's binary_logloss: 0.112493\n",
      "[24]\tvalid_0's auc: 0.754485\tvalid_0's binary_logloss: 0.112358\n",
      "[25]\tvalid_0's auc: 0.755337\tvalid_0's binary_logloss: 0.112183\n",
      "[26]\tvalid_0's auc: 0.755221\tvalid_0's binary_logloss: 0.112079\n",
      "[27]\tvalid_0's auc: 0.755249\tvalid_0's binary_logloss: 0.111955\n",
      "[28]\tvalid_0's auc: 0.754982\tvalid_0's binary_logloss: 0.111926\n",
      "[29]\tvalid_0's auc: 0.754913\tvalid_0's binary_logloss: 0.11184\n",
      "[30]\tvalid_0's auc: 0.754878\tvalid_0's binary_logloss: 0.111761\n",
      "[31]\tvalid_0's auc: 0.754617\tvalid_0's binary_logloss: 0.111677\n",
      "[32]\tvalid_0's auc: 0.755699\tvalid_0's binary_logloss: 0.111515\n",
      "[33]\tvalid_0's auc: 0.75669\tvalid_0's binary_logloss: 0.111376\n",
      "[34]\tvalid_0's auc: 0.756401\tvalid_0's binary_logloss: 0.111327\n",
      "[35]\tvalid_0's auc: 0.756417\tvalid_0's binary_logloss: 0.111252\n",
      "[36]\tvalid_0's auc: 0.756287\tvalid_0's binary_logloss: 0.111212\n",
      "[37]\tvalid_0's auc: 0.756047\tvalid_0's binary_logloss: 0.111166\n",
      "[38]\tvalid_0's auc: 0.756058\tvalid_0's binary_logloss: 0.111096\n",
      "[39]\tvalid_0's auc: 0.755819\tvalid_0's binary_logloss: 0.111069\n",
      "[40]\tvalid_0's auc: 0.755633\tvalid_0's binary_logloss: 0.111038\n",
      "[41]\tvalid_0's auc: 0.755538\tvalid_0's binary_logloss: 0.110994\n",
      "[42]\tvalid_0's auc: 0.756249\tvalid_0's binary_logloss: 0.110892\n",
      "[43]\tvalid_0's auc: 0.756093\tvalid_0's binary_logloss: 0.110863\n",
      "[44]\tvalid_0's auc: 0.756889\tvalid_0's binary_logloss: 0.110774\n",
      "[45]\tvalid_0's auc: 0.756741\tvalid_0's binary_logloss: 0.110743\n",
      "[46]\tvalid_0's auc: 0.757482\tvalid_0's binary_logloss: 0.11064\n",
      "[47]\tvalid_0's auc: 0.758125\tvalid_0's binary_logloss: 0.110552\n",
      "[48]\tvalid_0's auc: 0.758614\tvalid_0's binary_logloss: 0.110473\n",
      "[49]\tvalid_0's auc: 0.758526\tvalid_0's binary_logloss: 0.11045\n",
      "[50]\tvalid_0's auc: 0.758454\tvalid_0's binary_logloss: 0.110411\n",
      "[51]\tvalid_0's auc: 0.759064\tvalid_0's binary_logloss: 0.110325\n",
      "[52]\tvalid_0's auc: 0.759374\tvalid_0's binary_logloss: 0.11026\n",
      "[53]\tvalid_0's auc: 0.759334\tvalid_0's binary_logloss: 0.110244\n",
      "[54]\tvalid_0's auc: 0.759261\tvalid_0's binary_logloss: 0.110235\n",
      "[55]\tvalid_0's auc: 0.759161\tvalid_0's binary_logloss: 0.110225\n",
      "[56]\tvalid_0's auc: 0.758982\tvalid_0's binary_logloss: 0.110222\n",
      "[57]\tvalid_0's auc: 0.758964\tvalid_0's binary_logloss: 0.110193\n",
      "[58]\tvalid_0's auc: 0.758934\tvalid_0's binary_logloss: 0.110185\n",
      "[59]\tvalid_0's auc: 0.759027\tvalid_0's binary_logloss: 0.110156\n",
      "[60]\tvalid_0's auc: 0.759391\tvalid_0's binary_logloss: 0.110095\n",
      "[61]\tvalid_0's auc: 0.75942\tvalid_0's binary_logloss: 0.110066\n",
      "[62]\tvalid_0's auc: 0.759425\tvalid_0's binary_logloss: 0.110043\n",
      "[63]\tvalid_0's auc: 0.759931\tvalid_0's binary_logloss: 0.109976\n",
      "[64]\tvalid_0's auc: 0.75986\tvalid_0's binary_logloss: 0.109967\n",
      "[65]\tvalid_0's auc: 0.759907\tvalid_0's binary_logloss: 0.109946\n",
      "[66]\tvalid_0's auc: 0.759857\tvalid_0's binary_logloss: 0.109927\n",
      "[67]\tvalid_0's auc: 0.759848\tvalid_0's binary_logloss: 0.109918\n",
      "[68]\tvalid_0's auc: 0.760196\tvalid_0's binary_logloss: 0.109876\n",
      "[69]\tvalid_0's auc: 0.760192\tvalid_0's binary_logloss: 0.109855\n",
      "[70]\tvalid_0's auc: 0.760215\tvalid_0's binary_logloss: 0.109838\n",
      "[71]\tvalid_0's auc: 0.760138\tvalid_0's binary_logloss: 0.109839\n",
      "[72]\tvalid_0's auc: 0.760606\tvalid_0's binary_logloss: 0.109781\n",
      "[73]\tvalid_0's auc: 0.761007\tvalid_0's binary_logloss: 0.109737\n",
      "[74]\tvalid_0's auc: 0.760885\tvalid_0's binary_logloss: 0.10974\n",
      "[75]\tvalid_0's auc: 0.760864\tvalid_0's binary_logloss: 0.109731\n",
      "[76]\tvalid_0's auc: 0.760847\tvalid_0's binary_logloss: 0.109726\n",
      "[77]\tvalid_0's auc: 0.760753\tvalid_0's binary_logloss: 0.109725\n",
      "[78]\tvalid_0's auc: 0.760696\tvalid_0's binary_logloss: 0.109716\n",
      "[79]\tvalid_0's auc: 0.76064\tvalid_0's binary_logloss: 0.10972\n",
      "[80]\tvalid_0's auc: 0.760592\tvalid_0's binary_logloss: 0.10972\n",
      "[81]\tvalid_0's auc: 0.760849\tvalid_0's binary_logloss: 0.109682\n",
      "[82]\tvalid_0's auc: 0.761054\tvalid_0's binary_logloss: 0.109657\n",
      "[83]\tvalid_0's auc: 0.760973\tvalid_0's binary_logloss: 0.109655\n",
      "[84]\tvalid_0's auc: 0.760887\tvalid_0's binary_logloss: 0.109661\n",
      "[85]\tvalid_0's auc: 0.761087\tvalid_0's binary_logloss: 0.109637\n",
      "[86]\tvalid_0's auc: 0.761241\tvalid_0's binary_logloss: 0.109617\n",
      "[87]\tvalid_0's auc: 0.761132\tvalid_0's binary_logloss: 0.109614\n",
      "[88]\tvalid_0's auc: 0.761094\tvalid_0's binary_logloss: 0.109616\n",
      "[89]\tvalid_0's auc: 0.761046\tvalid_0's binary_logloss: 0.109623\n",
      "[90]\tvalid_0's auc: 0.760945\tvalid_0's binary_logloss: 0.109623\n",
      "[91]\tvalid_0's auc: 0.761015\tvalid_0's binary_logloss: 0.10961\n",
      "[92]\tvalid_0's auc: 0.761006\tvalid_0's binary_logloss: 0.10961\n",
      "[93]\tvalid_0's auc: 0.761237\tvalid_0's binary_logloss: 0.109584\n",
      "[94]\tvalid_0's auc: 0.761143\tvalid_0's binary_logloss: 0.109592\n",
      "[95]\tvalid_0's auc: 0.761124\tvalid_0's binary_logloss: 0.109587\n",
      "[96]\tvalid_0's auc: 0.761077\tvalid_0's binary_logloss: 0.10959\n",
      "[97]\tvalid_0's auc: 0.761008\tvalid_0's binary_logloss: 0.109588\n",
      "[98]\tvalid_0's auc: 0.761178\tvalid_0's binary_logloss: 0.10957\n",
      "[99]\tvalid_0's auc: 0.761119\tvalid_0's binary_logloss: 0.109574\n",
      "[100]\tvalid_0's auc: 0.76108\tvalid_0's binary_logloss: 0.109576\n",
      "[101]\tvalid_0's auc: 0.761307\tvalid_0's binary_logloss: 0.109555\n",
      "[102]\tvalid_0's auc: 0.761417\tvalid_0's binary_logloss: 0.109543\n",
      "[103]\tvalid_0's auc: 0.761382\tvalid_0's binary_logloss: 0.109542\n",
      "[104]\tvalid_0's auc: 0.761529\tvalid_0's binary_logloss: 0.109526\n",
      "[105]\tvalid_0's auc: 0.761402\tvalid_0's binary_logloss: 0.109533\n",
      "[106]\tvalid_0's auc: 0.761535\tvalid_0's binary_logloss: 0.109519\n",
      "[107]\tvalid_0's auc: 0.761644\tvalid_0's binary_logloss: 0.109501\n",
      "[108]\tvalid_0's auc: 0.761609\tvalid_0's binary_logloss: 0.109499\n",
      "[109]\tvalid_0's auc: 0.761557\tvalid_0's binary_logloss: 0.109502\n",
      "[110]\tvalid_0's auc: 0.761612\tvalid_0's binary_logloss: 0.109494\n",
      "[111]\tvalid_0's auc: 0.761593\tvalid_0's binary_logloss: 0.109491\n",
      "[112]\tvalid_0's auc: 0.761523\tvalid_0's binary_logloss: 0.109497\n",
      "[113]\tvalid_0's auc: 0.761469\tvalid_0's binary_logloss: 0.1095\n",
      "[114]\tvalid_0's auc: 0.761544\tvalid_0's binary_logloss: 0.109495\n",
      "[115]\tvalid_0's auc: 0.761678\tvalid_0's binary_logloss: 0.109482\n",
      "[116]\tvalid_0's auc: 0.761779\tvalid_0's binary_logloss: 0.109473\n",
      "[117]\tvalid_0's auc: 0.761727\tvalid_0's binary_logloss: 0.10948\n",
      "[118]\tvalid_0's auc: 0.761699\tvalid_0's binary_logloss: 0.109478\n",
      "[119]\tvalid_0's auc: 0.761798\tvalid_0's binary_logloss: 0.109464\n",
      "[120]\tvalid_0's auc: 0.7618\tvalid_0's binary_logloss: 0.109464\n",
      "[121]\tvalid_0's auc: 0.761932\tvalid_0's binary_logloss: 0.109449\n",
      "[122]\tvalid_0's auc: 0.761991\tvalid_0's binary_logloss: 0.10944\n",
      "[123]\tvalid_0's auc: 0.762056\tvalid_0's binary_logloss: 0.109435\n",
      "[124]\tvalid_0's auc: 0.761991\tvalid_0's binary_logloss: 0.109442\n",
      "[125]\tvalid_0's auc: 0.761866\tvalid_0's binary_logloss: 0.109451\n"
     ]
    },
    {
     "name": "stdout",
     "output_type": "stream",
     "text": [
      "[126]\tvalid_0's auc: 0.761929\tvalid_0's binary_logloss: 0.109441\n",
      "[127]\tvalid_0's auc: 0.761942\tvalid_0's binary_logloss: 0.109442\n",
      "[128]\tvalid_0's auc: 0.761917\tvalid_0's binary_logloss: 0.109444\n",
      "[129]\tvalid_0's auc: 0.761965\tvalid_0's binary_logloss: 0.109442\n",
      "[130]\tvalid_0's auc: 0.761942\tvalid_0's binary_logloss: 0.109444\n",
      "[131]\tvalid_0's auc: 0.761885\tvalid_0's binary_logloss: 0.109447\n",
      "[132]\tvalid_0's auc: 0.761972\tvalid_0's binary_logloss: 0.109436\n",
      "[133]\tvalid_0's auc: 0.761922\tvalid_0's binary_logloss: 0.109443\n",
      "[134]\tvalid_0's auc: 0.761991\tvalid_0's binary_logloss: 0.109439\n",
      "[135]\tvalid_0's auc: 0.761951\tvalid_0's binary_logloss: 0.109444\n",
      "[136]\tvalid_0's auc: 0.761958\tvalid_0's binary_logloss: 0.109448\n",
      "[137]\tvalid_0's auc: 0.76193\tvalid_0's binary_logloss: 0.109452\n",
      "[138]\tvalid_0's auc: 0.761871\tvalid_0's binary_logloss: 0.109457\n",
      "[139]\tvalid_0's auc: 0.761874\tvalid_0's binary_logloss: 0.109457\n",
      "[140]\tvalid_0's auc: 0.761818\tvalid_0's binary_logloss: 0.109463\n",
      "[141]\tvalid_0's auc: 0.761754\tvalid_0's binary_logloss: 0.109469\n",
      "[142]\tvalid_0's auc: 0.761681\tvalid_0's binary_logloss: 0.10948\n",
      "[143]\tvalid_0's auc: 0.761666\tvalid_0's binary_logloss: 0.109484\n",
      "[144]\tvalid_0's auc: 0.761714\tvalid_0's binary_logloss: 0.109477\n",
      "[145]\tvalid_0's auc: 0.761676\tvalid_0's binary_logloss: 0.109479\n",
      "[146]\tvalid_0's auc: 0.761665\tvalid_0's binary_logloss: 0.10948\n",
      "[147]\tvalid_0's auc: 0.761659\tvalid_0's binary_logloss: 0.109482\n",
      "[148]\tvalid_0's auc: 0.761605\tvalid_0's binary_logloss: 0.10949\n",
      "[149]\tvalid_0's auc: 0.761581\tvalid_0's binary_logloss: 0.109495\n",
      "[150]\tvalid_0's auc: 0.761578\tvalid_0's binary_logloss: 0.109498\n",
      "[151]\tvalid_0's auc: 0.761572\tvalid_0's binary_logloss: 0.1095\n",
      "[152]\tvalid_0's auc: 0.761555\tvalid_0's binary_logloss: 0.109504\n",
      "[153]\tvalid_0's auc: 0.761578\tvalid_0's binary_logloss: 0.109504\n",
      "[154]\tvalid_0's auc: 0.76153\tvalid_0's binary_logloss: 0.10951\n",
      "[155]\tvalid_0's auc: 0.761521\tvalid_0's binary_logloss: 0.109513\n",
      "[156]\tvalid_0's auc: 0.761457\tvalid_0's binary_logloss: 0.10952\n",
      "[157]\tvalid_0's auc: 0.761409\tvalid_0's binary_logloss: 0.109525\n",
      "[158]\tvalid_0's auc: 0.761393\tvalid_0's binary_logloss: 0.109528\n",
      "[159]\tvalid_0's auc: 0.761401\tvalid_0's binary_logloss: 0.10953\n",
      "[160]\tvalid_0's auc: 0.761391\tvalid_0's binary_logloss: 0.109532\n",
      "[161]\tvalid_0's auc: 0.761403\tvalid_0's binary_logloss: 0.109535\n",
      "[162]\tvalid_0's auc: 0.761356\tvalid_0's binary_logloss: 0.109542\n",
      "[163]\tvalid_0's auc: 0.761287\tvalid_0's binary_logloss: 0.109551\n",
      "[164]\tvalid_0's auc: 0.761268\tvalid_0's binary_logloss: 0.109556\n",
      "[165]\tvalid_0's auc: 0.761179\tvalid_0's binary_logloss: 0.109564\n",
      "[166]\tvalid_0's auc: 0.761132\tvalid_0's binary_logloss: 0.109571\n",
      "[167]\tvalid_0's auc: 0.761094\tvalid_0's binary_logloss: 0.109577\n",
      "[168]\tvalid_0's auc: 0.76103\tvalid_0's binary_logloss: 0.109585\n",
      "[169]\tvalid_0's auc: 0.761069\tvalid_0's binary_logloss: 0.109581\n",
      "[170]\tvalid_0's auc: 0.761057\tvalid_0's binary_logloss: 0.109583\n",
      "[171]\tvalid_0's auc: 0.761035\tvalid_0's binary_logloss: 0.109588\n",
      "[172]\tvalid_0's auc: 0.761013\tvalid_0's binary_logloss: 0.109593\n",
      "[173]\tvalid_0's auc: 0.76094\tvalid_0's binary_logloss: 0.1096\n",
      "[174]\tvalid_0's auc: 0.760926\tvalid_0's binary_logloss: 0.109605\n",
      "[175]\tvalid_0's auc: 0.760889\tvalid_0's binary_logloss: 0.109608\n",
      "[176]\tvalid_0's auc: 0.760845\tvalid_0's binary_logloss: 0.109616\n",
      "[177]\tvalid_0's auc: 0.760795\tvalid_0's binary_logloss: 0.109623\n",
      "[178]\tvalid_0's auc: 0.760797\tvalid_0's binary_logloss: 0.109625\n",
      "[179]\tvalid_0's auc: 0.760809\tvalid_0's binary_logloss: 0.109624\n",
      "[180]\tvalid_0's auc: 0.760774\tvalid_0's binary_logloss: 0.109631\n",
      "[181]\tvalid_0's auc: 0.760768\tvalid_0's binary_logloss: 0.109634\n",
      "[182]\tvalid_0's auc: 0.760688\tvalid_0's binary_logloss: 0.109642\n",
      "[183]\tvalid_0's auc: 0.760651\tvalid_0's binary_logloss: 0.109647\n",
      "[184]\tvalid_0's auc: 0.760626\tvalid_0's binary_logloss: 0.109649\n",
      "[185]\tvalid_0's auc: 0.760604\tvalid_0's binary_logloss: 0.109654\n",
      "[186]\tvalid_0's auc: 0.760584\tvalid_0's binary_logloss: 0.109659\n",
      "[187]\tvalid_0's auc: 0.760537\tvalid_0's binary_logloss: 0.109665\n",
      "[188]\tvalid_0's auc: 0.760457\tvalid_0's binary_logloss: 0.109675\n",
      "[189]\tvalid_0's auc: 0.760443\tvalid_0's binary_logloss: 0.10968\n",
      "[190]\tvalid_0's auc: 0.760368\tvalid_0's binary_logloss: 0.10969\n",
      "[191]\tvalid_0's auc: 0.760325\tvalid_0's binary_logloss: 0.109694\n",
      "[192]\tvalid_0's auc: 0.760305\tvalid_0's binary_logloss: 0.109696\n",
      "[193]\tvalid_0's auc: 0.760265\tvalid_0's binary_logloss: 0.109701\n",
      "[194]\tvalid_0's auc: 0.760217\tvalid_0's binary_logloss: 0.109708\n",
      "[195]\tvalid_0's auc: 0.760185\tvalid_0's binary_logloss: 0.109713\n",
      "[196]\tvalid_0's auc: 0.760193\tvalid_0's binary_logloss: 0.109715\n",
      "[197]\tvalid_0's auc: 0.76018\tvalid_0's binary_logloss: 0.109718\n",
      "[198]\tvalid_0's auc: 0.760137\tvalid_0's binary_logloss: 0.109725\n",
      "[199]\tvalid_0's auc: 0.760089\tvalid_0's binary_logloss: 0.109732\n",
      "[200]\tvalid_0's auc: 0.760001\tvalid_0's binary_logloss: 0.109742\n",
      "[201]\tvalid_0's auc: 0.760036\tvalid_0's binary_logloss: 0.109743\n",
      "[202]\tvalid_0's auc: 0.760068\tvalid_0's binary_logloss: 0.10974\n",
      "[203]\tvalid_0's auc: 0.760014\tvalid_0's binary_logloss: 0.109748\n",
      "[204]\tvalid_0's auc: 0.760015\tvalid_0's binary_logloss: 0.109751\n",
      "[205]\tvalid_0's auc: 0.759959\tvalid_0's binary_logloss: 0.109757\n",
      "[206]\tvalid_0's auc: 0.759914\tvalid_0's binary_logloss: 0.109762\n",
      "[207]\tvalid_0's auc: 0.759913\tvalid_0's binary_logloss: 0.109763\n",
      "[208]\tvalid_0's auc: 0.759896\tvalid_0's binary_logloss: 0.109766\n",
      "[209]\tvalid_0's auc: 0.75987\tvalid_0's binary_logloss: 0.109771\n",
      "[210]\tvalid_0's auc: 0.759839\tvalid_0's binary_logloss: 0.109776\n",
      "[211]\tvalid_0's auc: 0.759809\tvalid_0's binary_logloss: 0.109782\n",
      "[212]\tvalid_0's auc: 0.759807\tvalid_0's binary_logloss: 0.109783\n",
      "[213]\tvalid_0's auc: 0.759781\tvalid_0's binary_logloss: 0.10979\n",
      "[214]\tvalid_0's auc: 0.759743\tvalid_0's binary_logloss: 0.109799\n",
      "[215]\tvalid_0's auc: 0.759692\tvalid_0's binary_logloss: 0.109808\n",
      "[216]\tvalid_0's auc: 0.759647\tvalid_0's binary_logloss: 0.109815\n",
      "[217]\tvalid_0's auc: 0.759616\tvalid_0's binary_logloss: 0.10982\n",
      "[218]\tvalid_0's auc: 0.759565\tvalid_0's binary_logloss: 0.109827\n",
      "[219]\tvalid_0's auc: 0.759536\tvalid_0's binary_logloss: 0.109831\n",
      "[220]\tvalid_0's auc: 0.759503\tvalid_0's binary_logloss: 0.109835\n",
      "[221]\tvalid_0's auc: 0.7595\tvalid_0's binary_logloss: 0.109838\n",
      "[222]\tvalid_0's auc: 0.759455\tvalid_0's binary_logloss: 0.109845\n",
      "[223]\tvalid_0's auc: 0.759397\tvalid_0's binary_logloss: 0.109854\n",
      "[224]\tvalid_0's auc: 0.759368\tvalid_0's binary_logloss: 0.109859\n",
      "[225]\tvalid_0's auc: 0.759363\tvalid_0's binary_logloss: 0.109863\n",
      "[226]\tvalid_0's auc: 0.759342\tvalid_0's binary_logloss: 0.109867\n",
      "[227]\tvalid_0's auc: 0.759343\tvalid_0's binary_logloss: 0.109872\n",
      "[228]\tvalid_0's auc: 0.759315\tvalid_0's binary_logloss: 0.109879\n",
      "[229]\tvalid_0's auc: 0.759242\tvalid_0's binary_logloss: 0.109888\n",
      "[230]\tvalid_0's auc: 0.759196\tvalid_0's binary_logloss: 0.109896\n",
      "[231]\tvalid_0's auc: 0.759158\tvalid_0's binary_logloss: 0.109902\n",
      "[232]\tvalid_0's auc: 0.759134\tvalid_0's binary_logloss: 0.10991\n",
      "[233]\tvalid_0's auc: 0.759115\tvalid_0's binary_logloss: 0.109916\n",
      "[234]\tvalid_0's auc: 0.759094\tvalid_0's binary_logloss: 0.10992\n",
      "[235]\tvalid_0's auc: 0.759153\tvalid_0's binary_logloss: 0.109919\n",
      "[236]\tvalid_0's auc: 0.759131\tvalid_0's binary_logloss: 0.109927\n",
      "[237]\tvalid_0's auc: 0.759125\tvalid_0's binary_logloss: 0.109933\n",
      "[238]\tvalid_0's auc: 0.7591\tvalid_0's binary_logloss: 0.109939\n",
      "[239]\tvalid_0's auc: 0.759066\tvalid_0's binary_logloss: 0.109948\n",
      "[240]\tvalid_0's auc: 0.759038\tvalid_0's binary_logloss: 0.109951\n",
      "[241]\tvalid_0's auc: 0.759008\tvalid_0's binary_logloss: 0.109956\n",
      "[242]\tvalid_0's auc: 0.758995\tvalid_0's binary_logloss: 0.10996\n",
      "[243]\tvalid_0's auc: 0.758948\tvalid_0's binary_logloss: 0.109966\n",
      "[244]\tvalid_0's auc: 0.758928\tvalid_0's binary_logloss: 0.109972\n",
      "[245]\tvalid_0's auc: 0.758888\tvalid_0's binary_logloss: 0.10998\n",
      "[246]\tvalid_0's auc: 0.758868\tvalid_0's binary_logloss: 0.109983\n",
      "[247]\tvalid_0's auc: 0.758867\tvalid_0's binary_logloss: 0.109988\n",
      "[248]\tvalid_0's auc: 0.758858\tvalid_0's binary_logloss: 0.10999\n",
      "[249]\tvalid_0's auc: 0.758809\tvalid_0's binary_logloss: 0.109998\n",
      "[250]\tvalid_0's auc: 0.75878\tvalid_0's binary_logloss: 0.110005\n",
      "[251]\tvalid_0's auc: 0.75876\tvalid_0's binary_logloss: 0.110008\n",
      "[252]\tvalid_0's auc: 0.758725\tvalid_0's binary_logloss: 0.110013\n"
     ]
    },
    {
     "name": "stdout",
     "output_type": "stream",
     "text": [
      "[253]\tvalid_0's auc: 0.758719\tvalid_0's binary_logloss: 0.110018\n",
      "[254]\tvalid_0's auc: 0.758707\tvalid_0's binary_logloss: 0.110022\n",
      "[255]\tvalid_0's auc: 0.758695\tvalid_0's binary_logloss: 0.110027\n",
      "[256]\tvalid_0's auc: 0.758656\tvalid_0's binary_logloss: 0.110033\n",
      "[257]\tvalid_0's auc: 0.758631\tvalid_0's binary_logloss: 0.110037\n",
      "[258]\tvalid_0's auc: 0.758596\tvalid_0's binary_logloss: 0.110044\n",
      "[259]\tvalid_0's auc: 0.75857\tvalid_0's binary_logloss: 0.11005\n",
      "[260]\tvalid_0's auc: 0.758542\tvalid_0's binary_logloss: 0.110057\n",
      "[261]\tvalid_0's auc: 0.758518\tvalid_0's binary_logloss: 0.110063\n",
      "[262]\tvalid_0's auc: 0.758486\tvalid_0's binary_logloss: 0.110068\n",
      "[263]\tvalid_0's auc: 0.758479\tvalid_0's binary_logloss: 0.110074\n",
      "[264]\tvalid_0's auc: 0.758492\tvalid_0's binary_logloss: 0.110078\n",
      "[265]\tvalid_0's auc: 0.758419\tvalid_0's binary_logloss: 0.110089\n",
      "[266]\tvalid_0's auc: 0.758351\tvalid_0's binary_logloss: 0.110098\n",
      "[267]\tvalid_0's auc: 0.758311\tvalid_0's binary_logloss: 0.110104\n",
      "[268]\tvalid_0's auc: 0.758265\tvalid_0's binary_logloss: 0.110112\n",
      "[269]\tvalid_0's auc: 0.758268\tvalid_0's binary_logloss: 0.110116\n",
      "[270]\tvalid_0's auc: 0.758245\tvalid_0's binary_logloss: 0.110122\n",
      "[271]\tvalid_0's auc: 0.758239\tvalid_0's binary_logloss: 0.110127\n",
      "[272]\tvalid_0's auc: 0.758222\tvalid_0's binary_logloss: 0.110132\n",
      "[273]\tvalid_0's auc: 0.758194\tvalid_0's binary_logloss: 0.110138\n",
      "[274]\tvalid_0's auc: 0.758176\tvalid_0's binary_logloss: 0.110144\n",
      "[275]\tvalid_0's auc: 0.758199\tvalid_0's binary_logloss: 0.110147\n",
      "[276]\tvalid_0's auc: 0.758197\tvalid_0's binary_logloss: 0.110151\n",
      "[277]\tvalid_0's auc: 0.758141\tvalid_0's binary_logloss: 0.11016\n",
      "[278]\tvalid_0's auc: 0.758095\tvalid_0's binary_logloss: 0.110167\n",
      "[279]\tvalid_0's auc: 0.758071\tvalid_0's binary_logloss: 0.110174\n",
      "[280]\tvalid_0's auc: 0.758024\tvalid_0's binary_logloss: 0.110182\n",
      "[281]\tvalid_0's auc: 0.757962\tvalid_0's binary_logloss: 0.110192\n",
      "[282]\tvalid_0's auc: 0.757938\tvalid_0's binary_logloss: 0.110199\n",
      "[283]\tvalid_0's auc: 0.757896\tvalid_0's binary_logloss: 0.110205\n",
      "[284]\tvalid_0's auc: 0.757843\tvalid_0's binary_logloss: 0.110215\n",
      "[285]\tvalid_0's auc: 0.757828\tvalid_0's binary_logloss: 0.110222\n",
      "[286]\tvalid_0's auc: 0.757802\tvalid_0's binary_logloss: 0.11023\n",
      "[287]\tvalid_0's auc: 0.75779\tvalid_0's binary_logloss: 0.110234\n",
      "[288]\tvalid_0's auc: 0.757789\tvalid_0's binary_logloss: 0.11024\n",
      "[289]\tvalid_0's auc: 0.757724\tvalid_0's binary_logloss: 0.110247\n",
      "[290]\tvalid_0's auc: 0.757687\tvalid_0's binary_logloss: 0.110253\n",
      "[291]\tvalid_0's auc: 0.757673\tvalid_0's binary_logloss: 0.110263\n",
      "[292]\tvalid_0's auc: 0.757662\tvalid_0's binary_logloss: 0.110269\n",
      "[293]\tvalid_0's auc: 0.757641\tvalid_0's binary_logloss: 0.110276\n",
      "[294]\tvalid_0's auc: 0.757627\tvalid_0's binary_logloss: 0.110284\n",
      "[295]\tvalid_0's auc: 0.757593\tvalid_0's binary_logloss: 0.110291\n",
      "[296]\tvalid_0's auc: 0.757561\tvalid_0's binary_logloss: 0.110298\n",
      "[297]\tvalid_0's auc: 0.757511\tvalid_0's binary_logloss: 0.110307\n",
      "[298]\tvalid_0's auc: 0.757438\tvalid_0's binary_logloss: 0.110317\n",
      "[299]\tvalid_0's auc: 0.757381\tvalid_0's binary_logloss: 0.110327\n",
      "[300]\tvalid_0's auc: 0.757395\tvalid_0's binary_logloss: 0.110334\n",
      "[301]\tvalid_0's auc: 0.757395\tvalid_0's binary_logloss: 0.110338\n",
      "[302]\tvalid_0's auc: 0.757402\tvalid_0's binary_logloss: 0.110343\n",
      "[303]\tvalid_0's auc: 0.757389\tvalid_0's binary_logloss: 0.11035\n",
      "[304]\tvalid_0's auc: 0.757326\tvalid_0's binary_logloss: 0.110359\n",
      "[305]\tvalid_0's auc: 0.75729\tvalid_0's binary_logloss: 0.110367\n",
      "[306]\tvalid_0's auc: 0.757275\tvalid_0's binary_logloss: 0.110371\n",
      "[307]\tvalid_0's auc: 0.757226\tvalid_0's binary_logloss: 0.110382\n",
      "[308]\tvalid_0's auc: 0.757217\tvalid_0's binary_logloss: 0.110388\n",
      "[309]\tvalid_0's auc: 0.757201\tvalid_0's binary_logloss: 0.110395\n",
      "[310]\tvalid_0's auc: 0.757153\tvalid_0's binary_logloss: 0.110403\n",
      "[311]\tvalid_0's auc: 0.757126\tvalid_0's binary_logloss: 0.110411\n",
      "[312]\tvalid_0's auc: 0.75712\tvalid_0's binary_logloss: 0.110417\n",
      "[313]\tvalid_0's auc: 0.757102\tvalid_0's binary_logloss: 0.110426\n",
      "[314]\tvalid_0's auc: 0.757093\tvalid_0's binary_logloss: 0.110432\n",
      "[315]\tvalid_0's auc: 0.75707\tvalid_0's binary_logloss: 0.110438\n",
      "[316]\tvalid_0's auc: 0.757018\tvalid_0's binary_logloss: 0.110446\n",
      "[317]\tvalid_0's auc: 0.757019\tvalid_0's binary_logloss: 0.110451\n",
      "[318]\tvalid_0's auc: 0.757\tvalid_0's binary_logloss: 0.110456\n",
      "[319]\tvalid_0's auc: 0.756942\tvalid_0's binary_logloss: 0.110467\n",
      "[320]\tvalid_0's auc: 0.756911\tvalid_0's binary_logloss: 0.110476\n",
      "[321]\tvalid_0's auc: 0.756878\tvalid_0's binary_logloss: 0.110485\n",
      "[322]\tvalid_0's auc: 0.756851\tvalid_0's binary_logloss: 0.110496\n",
      "[323]\tvalid_0's auc: 0.756789\tvalid_0's binary_logloss: 0.110508\n",
      "[324]\tvalid_0's auc: 0.756746\tvalid_0's binary_logloss: 0.110516\n",
      "[325]\tvalid_0's auc: 0.756721\tvalid_0's binary_logloss: 0.110524\n",
      "[326]\tvalid_0's auc: 0.756666\tvalid_0's binary_logloss: 0.110533\n",
      "[327]\tvalid_0's auc: 0.756634\tvalid_0's binary_logloss: 0.110543\n",
      "[328]\tvalid_0's auc: 0.756614\tvalid_0's binary_logloss: 0.11055\n",
      "[329]\tvalid_0's auc: 0.756551\tvalid_0's binary_logloss: 0.110561\n",
      "[330]\tvalid_0's auc: 0.756521\tvalid_0's binary_logloss: 0.11057\n",
      "[331]\tvalid_0's auc: 0.756498\tvalid_0's binary_logloss: 0.110575\n",
      "[332]\tvalid_0's auc: 0.756521\tvalid_0's binary_logloss: 0.110578\n",
      "[333]\tvalid_0's auc: 0.756468\tvalid_0's binary_logloss: 0.11059\n",
      "[334]\tvalid_0's auc: 0.756415\tvalid_0's binary_logloss: 0.1106\n",
      "[335]\tvalid_0's auc: 0.756416\tvalid_0's binary_logloss: 0.110604\n",
      "[336]\tvalid_0's auc: 0.756375\tvalid_0's binary_logloss: 0.110614\n",
      "[337]\tvalid_0's auc: 0.756341\tvalid_0's binary_logloss: 0.110625\n",
      "[338]\tvalid_0's auc: 0.756305\tvalid_0's binary_logloss: 0.110633\n",
      "[339]\tvalid_0's auc: 0.756278\tvalid_0's binary_logloss: 0.11064\n",
      "[340]\tvalid_0's auc: 0.756236\tvalid_0's binary_logloss: 0.110648\n",
      "[341]\tvalid_0's auc: 0.756205\tvalid_0's binary_logloss: 0.110657\n",
      "[342]\tvalid_0's auc: 0.756195\tvalid_0's binary_logloss: 0.110667\n",
      "[343]\tvalid_0's auc: 0.756174\tvalid_0's binary_logloss: 0.110674\n",
      "[344]\tvalid_0's auc: 0.756157\tvalid_0's binary_logloss: 0.11068\n",
      "[345]\tvalid_0's auc: 0.756135\tvalid_0's binary_logloss: 0.110686\n",
      "[346]\tvalid_0's auc: 0.756115\tvalid_0's binary_logloss: 0.110693\n",
      "[347]\tvalid_0's auc: 0.756107\tvalid_0's binary_logloss: 0.1107\n",
      "[348]\tvalid_0's auc: 0.756056\tvalid_0's binary_logloss: 0.11071\n",
      "[349]\tvalid_0's auc: 0.756022\tvalid_0's binary_logloss: 0.11072\n",
      "[350]\tvalid_0's auc: 0.756003\tvalid_0's binary_logloss: 0.110727\n",
      "[351]\tvalid_0's auc: 0.755975\tvalid_0's binary_logloss: 0.110735\n",
      "[352]\tvalid_0's auc: 0.755971\tvalid_0's binary_logloss: 0.110742\n",
      "[353]\tvalid_0's auc: 0.755954\tvalid_0's binary_logloss: 0.110747\n",
      "[354]\tvalid_0's auc: 0.755895\tvalid_0's binary_logloss: 0.110757\n",
      "[355]\tvalid_0's auc: 0.755853\tvalid_0's binary_logloss: 0.110764\n",
      "[356]\tvalid_0's auc: 0.755786\tvalid_0's binary_logloss: 0.110782\n",
      "[357]\tvalid_0's auc: 0.755763\tvalid_0's binary_logloss: 0.110785\n",
      "[358]\tvalid_0's auc: 0.755712\tvalid_0's binary_logloss: 0.110796\n",
      "[359]\tvalid_0's auc: 0.755646\tvalid_0's binary_logloss: 0.110807\n",
      "[360]\tvalid_0's auc: 0.755606\tvalid_0's binary_logloss: 0.110816\n",
      "[361]\tvalid_0's auc: 0.755571\tvalid_0's binary_logloss: 0.110823\n",
      "[362]\tvalid_0's auc: 0.755559\tvalid_0's binary_logloss: 0.11083\n",
      "[363]\tvalid_0's auc: 0.755501\tvalid_0's binary_logloss: 0.110838\n",
      "[364]\tvalid_0's auc: 0.755444\tvalid_0's binary_logloss: 0.110849\n",
      "[365]\tvalid_0's auc: 0.755429\tvalid_0's binary_logloss: 0.110854\n",
      "[366]\tvalid_0's auc: 0.755385\tvalid_0's binary_logloss: 0.110864\n",
      "[367]\tvalid_0's auc: 0.755363\tvalid_0's binary_logloss: 0.110873\n",
      "[368]\tvalid_0's auc: 0.755375\tvalid_0's binary_logloss: 0.110877\n",
      "[369]\tvalid_0's auc: 0.755389\tvalid_0's binary_logloss: 0.11088\n",
      "[370]\tvalid_0's auc: 0.755335\tvalid_0's binary_logloss: 0.110891\n",
      "[371]\tvalid_0's auc: 0.755312\tvalid_0's binary_logloss: 0.110899\n",
      "[372]\tvalid_0's auc: 0.755245\tvalid_0's binary_logloss: 0.110911\n",
      "[373]\tvalid_0's auc: 0.755228\tvalid_0's binary_logloss: 0.110918\n",
      "[374]\tvalid_0's auc: 0.755168\tvalid_0's binary_logloss: 0.110932\n",
      "[375]\tvalid_0's auc: 0.755126\tvalid_0's binary_logloss: 0.110941\n",
      "[376]\tvalid_0's auc: 0.755107\tvalid_0's binary_logloss: 0.110949\n",
      "[377]\tvalid_0's auc: 0.755073\tvalid_0's binary_logloss: 0.110959\n",
      "[378]\tvalid_0's auc: 0.755011\tvalid_0's binary_logloss: 0.110969\n",
      "[379]\tvalid_0's auc: 0.754977\tvalid_0's binary_logloss: 0.110978\n"
     ]
    },
    {
     "name": "stdout",
     "output_type": "stream",
     "text": [
      "[380]\tvalid_0's auc: 0.754957\tvalid_0's binary_logloss: 0.110987\n",
      "[381]\tvalid_0's auc: 0.754928\tvalid_0's binary_logloss: 0.110997\n",
      "[382]\tvalid_0's auc: 0.75489\tvalid_0's binary_logloss: 0.111005\n",
      "[383]\tvalid_0's auc: 0.754837\tvalid_0's binary_logloss: 0.111015\n",
      "[384]\tvalid_0's auc: 0.754805\tvalid_0's binary_logloss: 0.111024\n",
      "[385]\tvalid_0's auc: 0.754798\tvalid_0's binary_logloss: 0.111027\n",
      "[386]\tvalid_0's auc: 0.75477\tvalid_0's binary_logloss: 0.111037\n",
      "[387]\tvalid_0's auc: 0.754752\tvalid_0's binary_logloss: 0.111044\n",
      "[388]\tvalid_0's auc: 0.754705\tvalid_0's binary_logloss: 0.111054\n",
      "[389]\tvalid_0's auc: 0.754652\tvalid_0's binary_logloss: 0.111065\n",
      "[390]\tvalid_0's auc: 0.754592\tvalid_0's binary_logloss: 0.111076\n",
      "[391]\tvalid_0's auc: 0.754571\tvalid_0's binary_logloss: 0.111084\n",
      "[392]\tvalid_0's auc: 0.754552\tvalid_0's binary_logloss: 0.111093\n",
      "[393]\tvalid_0's auc: 0.754518\tvalid_0's binary_logloss: 0.111104\n",
      "[394]\tvalid_0's auc: 0.754517\tvalid_0's binary_logloss: 0.111112\n",
      "[395]\tvalid_0's auc: 0.754463\tvalid_0's binary_logloss: 0.111122\n",
      "[396]\tvalid_0's auc: 0.754448\tvalid_0's binary_logloss: 0.11113\n",
      "[397]\tvalid_0's auc: 0.754438\tvalid_0's binary_logloss: 0.111139\n",
      "[398]\tvalid_0's auc: 0.754416\tvalid_0's binary_logloss: 0.111145\n",
      "[399]\tvalid_0's auc: 0.754379\tvalid_0's binary_logloss: 0.111156\n",
      "[400]\tvalid_0's auc: 0.754364\tvalid_0's binary_logloss: 0.111163\n",
      "[401]\tvalid_0's auc: 0.754338\tvalid_0's binary_logloss: 0.11117\n",
      "[402]\tvalid_0's auc: 0.754321\tvalid_0's binary_logloss: 0.111179\n",
      "[403]\tvalid_0's auc: 0.754279\tvalid_0's binary_logloss: 0.11119\n",
      "[404]\tvalid_0's auc: 0.75425\tvalid_0's binary_logloss: 0.111199\n",
      "[405]\tvalid_0's auc: 0.754258\tvalid_0's binary_logloss: 0.111204\n",
      "[406]\tvalid_0's auc: 0.754216\tvalid_0's binary_logloss: 0.111215\n",
      "[407]\tvalid_0's auc: 0.754186\tvalid_0's binary_logloss: 0.111228\n",
      "[408]\tvalid_0's auc: 0.754177\tvalid_0's binary_logloss: 0.111232\n",
      "[409]\tvalid_0's auc: 0.754173\tvalid_0's binary_logloss: 0.111238\n",
      "[410]\tvalid_0's auc: 0.754155\tvalid_0's binary_logloss: 0.111245\n",
      "[411]\tvalid_0's auc: 0.75414\tvalid_0's binary_logloss: 0.111252\n",
      "[412]\tvalid_0's auc: 0.754145\tvalid_0's binary_logloss: 0.111261\n",
      "[413]\tvalid_0's auc: 0.754164\tvalid_0's binary_logloss: 0.111267\n",
      "[414]\tvalid_0's auc: 0.754133\tvalid_0's binary_logloss: 0.111277\n",
      "[415]\tvalid_0's auc: 0.754111\tvalid_0's binary_logloss: 0.111287\n",
      "[416]\tvalid_0's auc: 0.754095\tvalid_0's binary_logloss: 0.111294\n",
      "[417]\tvalid_0's auc: 0.754021\tvalid_0's binary_logloss: 0.11132\n",
      "[418]\tvalid_0's auc: 0.75403\tvalid_0's binary_logloss: 0.111328\n",
      "[419]\tvalid_0's auc: 0.753996\tvalid_0's binary_logloss: 0.111337\n",
      "[420]\tvalid_0's auc: 0.753941\tvalid_0's binary_logloss: 0.111349\n",
      "[421]\tvalid_0's auc: 0.753921\tvalid_0's binary_logloss: 0.111358\n",
      "[422]\tvalid_0's auc: 0.753921\tvalid_0's binary_logloss: 0.111365\n",
      "[423]\tvalid_0's auc: 0.75388\tvalid_0's binary_logloss: 0.111376\n",
      "[424]\tvalid_0's auc: 0.753847\tvalid_0's binary_logloss: 0.111386\n",
      "[425]\tvalid_0's auc: 0.753804\tvalid_0's binary_logloss: 0.111401\n",
      "[426]\tvalid_0's auc: 0.753806\tvalid_0's binary_logloss: 0.111409\n",
      "[427]\tvalid_0's auc: 0.753787\tvalid_0's binary_logloss: 0.111418\n",
      "[428]\tvalid_0's auc: 0.753756\tvalid_0's binary_logloss: 0.111427\n",
      "[429]\tvalid_0's auc: 0.753767\tvalid_0's binary_logloss: 0.111435\n",
      "[430]\tvalid_0's auc: 0.753723\tvalid_0's binary_logloss: 0.111446\n",
      "[431]\tvalid_0's auc: 0.753708\tvalid_0's binary_logloss: 0.111456\n",
      "[432]\tvalid_0's auc: 0.753667\tvalid_0's binary_logloss: 0.111466\n",
      "[433]\tvalid_0's auc: 0.753649\tvalid_0's binary_logloss: 0.111475\n",
      "[434]\tvalid_0's auc: 0.753561\tvalid_0's binary_logloss: 0.111492\n",
      "[435]\tvalid_0's auc: 0.753513\tvalid_0's binary_logloss: 0.111501\n",
      "[436]\tvalid_0's auc: 0.753478\tvalid_0's binary_logloss: 0.111512\n",
      "[437]\tvalid_0's auc: 0.753465\tvalid_0's binary_logloss: 0.111518\n",
      "[438]\tvalid_0's auc: 0.753455\tvalid_0's binary_logloss: 0.111524\n",
      "[439]\tvalid_0's auc: 0.753417\tvalid_0's binary_logloss: 0.111535\n",
      "[440]\tvalid_0's auc: 0.753402\tvalid_0's binary_logloss: 0.111545\n",
      "[441]\tvalid_0's auc: 0.753362\tvalid_0's binary_logloss: 0.111554\n",
      "[442]\tvalid_0's auc: 0.753336\tvalid_0's binary_logloss: 0.111563\n",
      "[443]\tvalid_0's auc: 0.753307\tvalid_0's binary_logloss: 0.111571\n",
      "[444]\tvalid_0's auc: 0.75327\tvalid_0's binary_logloss: 0.11158\n",
      "[445]\tvalid_0's auc: 0.753248\tvalid_0's binary_logloss: 0.11159\n",
      "[446]\tvalid_0's auc: 0.753205\tvalid_0's binary_logloss: 0.111603\n",
      "[447]\tvalid_0's auc: 0.753162\tvalid_0's binary_logloss: 0.111617\n",
      "[448]\tvalid_0's auc: 0.753149\tvalid_0's binary_logloss: 0.111626\n",
      "[449]\tvalid_0's auc: 0.753102\tvalid_0's binary_logloss: 0.111637\n",
      "[450]\tvalid_0's auc: 0.753064\tvalid_0's binary_logloss: 0.111647\n",
      "[451]\tvalid_0's auc: 0.753034\tvalid_0's binary_logloss: 0.111657\n",
      "[452]\tvalid_0's auc: 0.752986\tvalid_0's binary_logloss: 0.111669\n",
      "[453]\tvalid_0's auc: 0.752924\tvalid_0's binary_logloss: 0.111684\n",
      "[454]\tvalid_0's auc: 0.752906\tvalid_0's binary_logloss: 0.111695\n",
      "[455]\tvalid_0's auc: 0.752866\tvalid_0's binary_logloss: 0.111707\n",
      "[456]\tvalid_0's auc: 0.752836\tvalid_0's binary_logloss: 0.111716\n",
      "[457]\tvalid_0's auc: 0.752821\tvalid_0's binary_logloss: 0.111724\n",
      "[458]\tvalid_0's auc: 0.752786\tvalid_0's binary_logloss: 0.111733\n",
      "[459]\tvalid_0's auc: 0.752804\tvalid_0's binary_logloss: 0.111739\n",
      "[460]\tvalid_0's auc: 0.752788\tvalid_0's binary_logloss: 0.111748\n",
      "[461]\tvalid_0's auc: 0.752767\tvalid_0's binary_logloss: 0.111759\n",
      "[462]\tvalid_0's auc: 0.752742\tvalid_0's binary_logloss: 0.111768\n",
      "[463]\tvalid_0's auc: 0.752691\tvalid_0's binary_logloss: 0.111781\n",
      "[464]\tvalid_0's auc: 0.752677\tvalid_0's binary_logloss: 0.111791\n",
      "[465]\tvalid_0's auc: 0.752667\tvalid_0's binary_logloss: 0.1118\n",
      "[466]\tvalid_0's auc: 0.75267\tvalid_0's binary_logloss: 0.111808\n",
      "[467]\tvalid_0's auc: 0.752633\tvalid_0's binary_logloss: 0.111819\n",
      "[468]\tvalid_0's auc: 0.752607\tvalid_0's binary_logloss: 0.111828\n",
      "[469]\tvalid_0's auc: 0.752584\tvalid_0's binary_logloss: 0.111837\n",
      "[470]\tvalid_0's auc: 0.752571\tvalid_0's binary_logloss: 0.111846\n",
      "[471]\tvalid_0's auc: 0.752523\tvalid_0's binary_logloss: 0.111856\n",
      "[472]\tvalid_0's auc: 0.75251\tvalid_0's binary_logloss: 0.111866\n",
      "[473]\tvalid_0's auc: 0.752477\tvalid_0's binary_logloss: 0.111876\n",
      "[474]\tvalid_0's auc: 0.752491\tvalid_0's binary_logloss: 0.111883\n",
      "[475]\tvalid_0's auc: 0.752499\tvalid_0's binary_logloss: 0.111891\n",
      "[476]\tvalid_0's auc: 0.752458\tvalid_0's binary_logloss: 0.111903\n",
      "[477]\tvalid_0's auc: 0.752417\tvalid_0's binary_logloss: 0.111913\n",
      "[478]\tvalid_0's auc: 0.752397\tvalid_0's binary_logloss: 0.111924\n",
      "[479]\tvalid_0's auc: 0.752367\tvalid_0's binary_logloss: 0.111936\n",
      "[480]\tvalid_0's auc: 0.752327\tvalid_0's binary_logloss: 0.111946\n",
      "[481]\tvalid_0's auc: 0.752302\tvalid_0's binary_logloss: 0.111955\n",
      "[482]\tvalid_0's auc: 0.75229\tvalid_0's binary_logloss: 0.111964\n",
      "[483]\tvalid_0's auc: 0.752259\tvalid_0's binary_logloss: 0.111976\n",
      "[484]\tvalid_0's auc: 0.752217\tvalid_0's binary_logloss: 0.111988\n",
      "[485]\tvalid_0's auc: 0.752174\tvalid_0's binary_logloss: 0.111999\n",
      "[486]\tvalid_0's auc: 0.752131\tvalid_0's binary_logloss: 0.11201\n",
      "[487]\tvalid_0's auc: 0.7521\tvalid_0's binary_logloss: 0.112021\n",
      "[488]\tvalid_0's auc: 0.752094\tvalid_0's binary_logloss: 0.11203\n",
      "[489]\tvalid_0's auc: 0.752077\tvalid_0's binary_logloss: 0.11204\n",
      "[490]\tvalid_0's auc: 0.752028\tvalid_0's binary_logloss: 0.112055\n",
      "[491]\tvalid_0's auc: 0.752012\tvalid_0's binary_logloss: 0.112062\n",
      "[492]\tvalid_0's auc: 0.751968\tvalid_0's binary_logloss: 0.112075\n",
      "[493]\tvalid_0's auc: 0.751962\tvalid_0's binary_logloss: 0.112084\n",
      "[494]\tvalid_0's auc: 0.751971\tvalid_0's binary_logloss: 0.112093\n",
      "[495]\tvalid_0's auc: 0.751929\tvalid_0's binary_logloss: 0.112103\n",
      "[496]\tvalid_0's auc: 0.751895\tvalid_0's binary_logloss: 0.112112\n",
      "[497]\tvalid_0's auc: 0.751884\tvalid_0's binary_logloss: 0.11212\n",
      "[498]\tvalid_0's auc: 0.75189\tvalid_0's binary_logloss: 0.11213\n",
      "[499]\tvalid_0's auc: 0.751852\tvalid_0's binary_logloss: 0.112141\n",
      "[500]\tvalid_0's auc: 0.751832\tvalid_0's binary_logloss: 0.11215\n",
      "[501]\tvalid_0's auc: 0.751805\tvalid_0's binary_logloss: 0.112162\n",
      "[502]\tvalid_0's auc: 0.75176\tvalid_0's binary_logloss: 0.112174\n",
      "[503]\tvalid_0's auc: 0.751735\tvalid_0's binary_logloss: 0.112185\n",
      "[504]\tvalid_0's auc: 0.751698\tvalid_0's binary_logloss: 0.112199\n",
      "[505]\tvalid_0's auc: 0.751669\tvalid_0's binary_logloss: 0.112209\n",
      "[506]\tvalid_0's auc: 0.751635\tvalid_0's binary_logloss: 0.112219\n"
     ]
    },
    {
     "name": "stdout",
     "output_type": "stream",
     "text": [
      "[507]\tvalid_0's auc: 0.751595\tvalid_0's binary_logloss: 0.112229\n",
      "[508]\tvalid_0's auc: 0.751533\tvalid_0's binary_logloss: 0.112242\n",
      "[509]\tvalid_0's auc: 0.75152\tvalid_0's binary_logloss: 0.112252\n",
      "[510]\tvalid_0's auc: 0.751493\tvalid_0's binary_logloss: 0.112266\n",
      "[511]\tvalid_0's auc: 0.751461\tvalid_0's binary_logloss: 0.112277\n",
      "[512]\tvalid_0's auc: 0.751432\tvalid_0's binary_logloss: 0.112289\n",
      "[513]\tvalid_0's auc: 0.751441\tvalid_0's binary_logloss: 0.112296\n",
      "[514]\tvalid_0's auc: 0.751444\tvalid_0's binary_logloss: 0.112304\n",
      "[515]\tvalid_0's auc: 0.751402\tvalid_0's binary_logloss: 0.112316\n",
      "[516]\tvalid_0's auc: 0.751373\tvalid_0's binary_logloss: 0.112326\n",
      "[517]\tvalid_0's auc: 0.751353\tvalid_0's binary_logloss: 0.112339\n",
      "[518]\tvalid_0's auc: 0.751324\tvalid_0's binary_logloss: 0.112352\n",
      "[519]\tvalid_0's auc: 0.751332\tvalid_0's binary_logloss: 0.112361\n",
      "[520]\tvalid_0's auc: 0.751289\tvalid_0's binary_logloss: 0.112375\n",
      "[521]\tvalid_0's auc: 0.751266\tvalid_0's binary_logloss: 0.112386\n",
      "[522]\tvalid_0's auc: 0.751221\tvalid_0's binary_logloss: 0.112403\n",
      "[523]\tvalid_0's auc: 0.751192\tvalid_0's binary_logloss: 0.112414\n",
      "[524]\tvalid_0's auc: 0.751179\tvalid_0's binary_logloss: 0.112427\n",
      "[525]\tvalid_0's auc: 0.751143\tvalid_0's binary_logloss: 0.112442\n",
      "[526]\tvalid_0's auc: 0.751102\tvalid_0's binary_logloss: 0.112455\n",
      "[527]\tvalid_0's auc: 0.751091\tvalid_0's binary_logloss: 0.112467\n",
      "[528]\tvalid_0's auc: 0.751051\tvalid_0's binary_logloss: 0.11248\n",
      "[529]\tvalid_0's auc: 0.751022\tvalid_0's binary_logloss: 0.11249\n",
      "[530]\tvalid_0's auc: 0.750959\tvalid_0's binary_logloss: 0.112505\n",
      "[531]\tvalid_0's auc: 0.750917\tvalid_0's binary_logloss: 0.112515\n",
      "[532]\tvalid_0's auc: 0.750923\tvalid_0's binary_logloss: 0.112522\n",
      "[533]\tvalid_0's auc: 0.750863\tvalid_0's binary_logloss: 0.112538\n",
      "[534]\tvalid_0's auc: 0.75082\tvalid_0's binary_logloss: 0.11255\n",
      "[535]\tvalid_0's auc: 0.750804\tvalid_0's binary_logloss: 0.112558\n",
      "[536]\tvalid_0's auc: 0.750752\tvalid_0's binary_logloss: 0.112572\n",
      "[537]\tvalid_0's auc: 0.750713\tvalid_0's binary_logloss: 0.112585\n",
      "[538]\tvalid_0's auc: 0.750694\tvalid_0's binary_logloss: 0.112596\n",
      "[539]\tvalid_0's auc: 0.750657\tvalid_0's binary_logloss: 0.112607\n",
      "[540]\tvalid_0's auc: 0.750624\tvalid_0's binary_logloss: 0.112616\n",
      "[541]\tvalid_0's auc: 0.750583\tvalid_0's binary_logloss: 0.112628\n",
      "[542]\tvalid_0's auc: 0.750551\tvalid_0's binary_logloss: 0.112639\n",
      "[543]\tvalid_0's auc: 0.750532\tvalid_0's binary_logloss: 0.11265\n",
      "[544]\tvalid_0's auc: 0.750509\tvalid_0's binary_logloss: 0.112662\n",
      "[545]\tvalid_0's auc: 0.750498\tvalid_0's binary_logloss: 0.112671\n",
      "[546]\tvalid_0's auc: 0.750479\tvalid_0's binary_logloss: 0.112681\n",
      "[547]\tvalid_0's auc: 0.750431\tvalid_0's binary_logloss: 0.112698\n",
      "[548]\tvalid_0's auc: 0.75043\tvalid_0's binary_logloss: 0.11271\n",
      "[549]\tvalid_0's auc: 0.750386\tvalid_0's binary_logloss: 0.112725\n",
      "[550]\tvalid_0's auc: 0.750358\tvalid_0's binary_logloss: 0.112737\n",
      "[551]\tvalid_0's auc: 0.750335\tvalid_0's binary_logloss: 0.112751\n",
      "[552]\tvalid_0's auc: 0.750333\tvalid_0's binary_logloss: 0.112759\n",
      "[553]\tvalid_0's auc: 0.750293\tvalid_0's binary_logloss: 0.112771\n",
      "[554]\tvalid_0's auc: 0.750262\tvalid_0's binary_logloss: 0.112778\n",
      "[555]\tvalid_0's auc: 0.750235\tvalid_0's binary_logloss: 0.11279\n",
      "[556]\tvalid_0's auc: 0.750211\tvalid_0's binary_logloss: 0.112803\n",
      "[557]\tvalid_0's auc: 0.75022\tvalid_0's binary_logloss: 0.112812\n",
      "[558]\tvalid_0's auc: 0.7502\tvalid_0's binary_logloss: 0.11282\n",
      "[559]\tvalid_0's auc: 0.750154\tvalid_0's binary_logloss: 0.112835\n",
      "[560]\tvalid_0's auc: 0.750127\tvalid_0's binary_logloss: 0.112848\n",
      "[561]\tvalid_0's auc: 0.750107\tvalid_0's binary_logloss: 0.112858\n",
      "[562]\tvalid_0's auc: 0.750067\tvalid_0's binary_logloss: 0.11287\n",
      "[563]\tvalid_0's auc: 0.750058\tvalid_0's binary_logloss: 0.11288\n",
      "[564]\tvalid_0's auc: 0.75005\tvalid_0's binary_logloss: 0.11289\n",
      "[565]\tvalid_0's auc: 0.749996\tvalid_0's binary_logloss: 0.112905\n",
      "[566]\tvalid_0's auc: 0.749994\tvalid_0's binary_logloss: 0.112914\n",
      "[567]\tvalid_0's auc: 0.749984\tvalid_0's binary_logloss: 0.112925\n",
      "[568]\tvalid_0's auc: 0.74999\tvalid_0's binary_logloss: 0.112934\n",
      "[569]\tvalid_0's auc: 0.749969\tvalid_0's binary_logloss: 0.112946\n",
      "[570]\tvalid_0's auc: 0.74996\tvalid_0's binary_logloss: 0.112956\n",
      "[571]\tvalid_0's auc: 0.749937\tvalid_0's binary_logloss: 0.112969\n",
      "[572]\tvalid_0's auc: 0.7499\tvalid_0's binary_logloss: 0.112982\n",
      "[573]\tvalid_0's auc: 0.749928\tvalid_0's binary_logloss: 0.112991\n",
      "[574]\tvalid_0's auc: 0.749928\tvalid_0's binary_logloss: 0.113\n",
      "[575]\tvalid_0's auc: 0.749906\tvalid_0's binary_logloss: 0.113011\n",
      "[576]\tvalid_0's auc: 0.749889\tvalid_0's binary_logloss: 0.113022\n",
      "[577]\tvalid_0's auc: 0.749859\tvalid_0's binary_logloss: 0.113036\n",
      "[578]\tvalid_0's auc: 0.749845\tvalid_0's binary_logloss: 0.113047\n",
      "[579]\tvalid_0's auc: 0.749817\tvalid_0's binary_logloss: 0.113059\n",
      "[580]\tvalid_0's auc: 0.749804\tvalid_0's binary_logloss: 0.113068\n",
      "[581]\tvalid_0's auc: 0.749791\tvalid_0's binary_logloss: 0.113079\n",
      "[582]\tvalid_0's auc: 0.74977\tvalid_0's binary_logloss: 0.113091\n",
      "[583]\tvalid_0's auc: 0.749768\tvalid_0's binary_logloss: 0.1131\n",
      "[584]\tvalid_0's auc: 0.749712\tvalid_0's binary_logloss: 0.113123\n",
      "[585]\tvalid_0's auc: 0.749697\tvalid_0's binary_logloss: 0.113132\n",
      "[586]\tvalid_0's auc: 0.749668\tvalid_0's binary_logloss: 0.113144\n",
      "[587]\tvalid_0's auc: 0.749647\tvalid_0's binary_logloss: 0.113158\n",
      "[588]\tvalid_0's auc: 0.749613\tvalid_0's binary_logloss: 0.113172\n",
      "[589]\tvalid_0's auc: 0.749576\tvalid_0's binary_logloss: 0.113186\n",
      "[590]\tvalid_0's auc: 0.749553\tvalid_0's binary_logloss: 0.113201\n",
      "[591]\tvalid_0's auc: 0.749541\tvalid_0's binary_logloss: 0.113212\n",
      "[592]\tvalid_0's auc: 0.749539\tvalid_0's binary_logloss: 0.113223\n",
      "[593]\tvalid_0's auc: 0.7495\tvalid_0's binary_logloss: 0.113242\n",
      "[594]\tvalid_0's auc: 0.749474\tvalid_0's binary_logloss: 0.113258\n",
      "[595]\tvalid_0's auc: 0.74941\tvalid_0's binary_logloss: 0.113276\n",
      "[596]\tvalid_0's auc: 0.749393\tvalid_0's binary_logloss: 0.113289\n",
      "[597]\tvalid_0's auc: 0.749365\tvalid_0's binary_logloss: 0.1133\n",
      "[598]\tvalid_0's auc: 0.749351\tvalid_0's binary_logloss: 0.113311\n",
      "[599]\tvalid_0's auc: 0.749302\tvalid_0's binary_logloss: 0.113324\n",
      "[600]\tvalid_0's auc: 0.749271\tvalid_0's binary_logloss: 0.113335\n",
      "[601]\tvalid_0's auc: 0.749227\tvalid_0's binary_logloss: 0.113352\n",
      "[602]\tvalid_0's auc: 0.749214\tvalid_0's binary_logloss: 0.113362\n",
      "[603]\tvalid_0's auc: 0.749199\tvalid_0's binary_logloss: 0.113373\n",
      "[604]\tvalid_0's auc: 0.749156\tvalid_0's binary_logloss: 0.113388\n",
      "[605]\tvalid_0's auc: 0.749118\tvalid_0's binary_logloss: 0.113404\n",
      "[606]\tvalid_0's auc: 0.749081\tvalid_0's binary_logloss: 0.113421\n",
      "[607]\tvalid_0's auc: 0.749039\tvalid_0's binary_logloss: 0.113439\n",
      "[608]\tvalid_0's auc: 0.749023\tvalid_0's binary_logloss: 0.11345\n",
      "[609]\tvalid_0's auc: 0.748975\tvalid_0's binary_logloss: 0.113463\n",
      "[610]\tvalid_0's auc: 0.748973\tvalid_0's binary_logloss: 0.113476\n",
      "[611]\tvalid_0's auc: 0.748955\tvalid_0's binary_logloss: 0.113488\n",
      "[612]\tvalid_0's auc: 0.748944\tvalid_0's binary_logloss: 0.1135\n",
      "[613]\tvalid_0's auc: 0.748911\tvalid_0's binary_logloss: 0.113513\n",
      "[614]\tvalid_0's auc: 0.748893\tvalid_0's binary_logloss: 0.113528\n",
      "[615]\tvalid_0's auc: 0.748888\tvalid_0's binary_logloss: 0.113542\n",
      "[616]\tvalid_0's auc: 0.748861\tvalid_0's binary_logloss: 0.11356\n",
      "[617]\tvalid_0's auc: 0.74887\tvalid_0's binary_logloss: 0.113571\n",
      "[618]\tvalid_0's auc: 0.748859\tvalid_0's binary_logloss: 0.113587\n",
      "[619]\tvalid_0's auc: 0.748809\tvalid_0's binary_logloss: 0.113604\n",
      "[620]\tvalid_0's auc: 0.748776\tvalid_0's binary_logloss: 0.113619\n",
      "[621]\tvalid_0's auc: 0.748732\tvalid_0's binary_logloss: 0.113634\n",
      "[622]\tvalid_0's auc: 0.748695\tvalid_0's binary_logloss: 0.113649\n",
      "[623]\tvalid_0's auc: 0.748688\tvalid_0's binary_logloss: 0.113659\n",
      "[624]\tvalid_0's auc: 0.748689\tvalid_0's binary_logloss: 0.113668\n",
      "[625]\tvalid_0's auc: 0.748682\tvalid_0's binary_logloss: 0.113679\n",
      "[626]\tvalid_0's auc: 0.748657\tvalid_0's binary_logloss: 0.113696\n",
      "[627]\tvalid_0's auc: 0.748614\tvalid_0's binary_logloss: 0.113709\n",
      "[628]\tvalid_0's auc: 0.748598\tvalid_0's binary_logloss: 0.113724\n",
      "[629]\tvalid_0's auc: 0.748586\tvalid_0's binary_logloss: 0.113735\n",
      "[630]\tvalid_0's auc: 0.748582\tvalid_0's binary_logloss: 0.113744\n",
      "[631]\tvalid_0's auc: 0.748575\tvalid_0's binary_logloss: 0.113755\n",
      "[632]\tvalid_0's auc: 0.748535\tvalid_0's binary_logloss: 0.11377\n",
      "[633]\tvalid_0's auc: 0.748516\tvalid_0's binary_logloss: 0.11378\n"
     ]
    },
    {
     "name": "stdout",
     "output_type": "stream",
     "text": [
      "[634]\tvalid_0's auc: 0.748519\tvalid_0's binary_logloss: 0.113792\n",
      "[635]\tvalid_0's auc: 0.748484\tvalid_0's binary_logloss: 0.113805\n",
      "[636]\tvalid_0's auc: 0.748447\tvalid_0's binary_logloss: 0.113821\n",
      "[637]\tvalid_0's auc: 0.748447\tvalid_0's binary_logloss: 0.113828\n",
      "[638]\tvalid_0's auc: 0.748422\tvalid_0's binary_logloss: 0.113842\n",
      "[639]\tvalid_0's auc: 0.748405\tvalid_0's binary_logloss: 0.113857\n",
      "[640]\tvalid_0's auc: 0.748397\tvalid_0's binary_logloss: 0.113869\n",
      "[641]\tvalid_0's auc: 0.748378\tvalid_0's binary_logloss: 0.11388\n",
      "[642]\tvalid_0's auc: 0.748373\tvalid_0's binary_logloss: 0.113889\n",
      "[643]\tvalid_0's auc: 0.74839\tvalid_0's binary_logloss: 0.113901\n",
      "[644]\tvalid_0's auc: 0.748352\tvalid_0's binary_logloss: 0.11392\n",
      "[645]\tvalid_0's auc: 0.748334\tvalid_0's binary_logloss: 0.113931\n",
      "[646]\tvalid_0's auc: 0.748332\tvalid_0's binary_logloss: 0.113933\n",
      "[647]\tvalid_0's auc: 0.748322\tvalid_0's binary_logloss: 0.113935\n",
      "[648]\tvalid_0's auc: 0.748305\tvalid_0's binary_logloss: 0.113947\n",
      "[649]\tvalid_0's auc: 0.748269\tvalid_0's binary_logloss: 0.113963\n",
      "[650]\tvalid_0's auc: 0.748279\tvalid_0's binary_logloss: 0.113972\n",
      "[651]\tvalid_0's auc: 0.748247\tvalid_0's binary_logloss: 0.113982\n",
      "[652]\tvalid_0's auc: 0.748211\tvalid_0's binary_logloss: 0.113992\n",
      "[653]\tvalid_0's auc: 0.748228\tvalid_0's binary_logloss: 0.114\n",
      "[654]\tvalid_0's auc: 0.748206\tvalid_0's binary_logloss: 0.114013\n",
      "[655]\tvalid_0's auc: 0.748212\tvalid_0's binary_logloss: 0.114021\n",
      "[656]\tvalid_0's auc: 0.748178\tvalid_0's binary_logloss: 0.114036\n",
      "[657]\tvalid_0's auc: 0.748141\tvalid_0's binary_logloss: 0.11405\n",
      "[658]\tvalid_0's auc: 0.748127\tvalid_0's binary_logloss: 0.11406\n",
      "[659]\tvalid_0's auc: 0.748119\tvalid_0's binary_logloss: 0.114072\n",
      "[660]\tvalid_0's auc: 0.748105\tvalid_0's binary_logloss: 0.114089\n",
      "[661]\tvalid_0's auc: 0.748087\tvalid_0's binary_logloss: 0.114103\n",
      "[662]\tvalid_0's auc: 0.748073\tvalid_0's binary_logloss: 0.114113\n",
      "[663]\tvalid_0's auc: 0.748047\tvalid_0's binary_logloss: 0.114126\n",
      "[664]\tvalid_0's auc: 0.748021\tvalid_0's binary_logloss: 0.114132\n",
      "[665]\tvalid_0's auc: 0.748002\tvalid_0's binary_logloss: 0.114146\n",
      "[666]\tvalid_0's auc: 0.747983\tvalid_0's binary_logloss: 0.114158\n",
      "[667]\tvalid_0's auc: 0.747961\tvalid_0's binary_logloss: 0.11417\n",
      "[668]\tvalid_0's auc: 0.74795\tvalid_0's binary_logloss: 0.114182\n",
      "[669]\tvalid_0's auc: 0.747951\tvalid_0's binary_logloss: 0.11419\n",
      "[670]\tvalid_0's auc: 0.747945\tvalid_0's binary_logloss: 0.114205\n",
      "[671]\tvalid_0's auc: 0.747906\tvalid_0's binary_logloss: 0.114221\n",
      "[672]\tvalid_0's auc: 0.747904\tvalid_0's binary_logloss: 0.11423\n",
      "[673]\tvalid_0's auc: 0.747887\tvalid_0's binary_logloss: 0.114239\n",
      "[674]\tvalid_0's auc: 0.747875\tvalid_0's binary_logloss: 0.114251\n",
      "[675]\tvalid_0's auc: 0.747868\tvalid_0's binary_logloss: 0.114258\n",
      "[676]\tvalid_0's auc: 0.747869\tvalid_0's binary_logloss: 0.114271\n",
      "[677]\tvalid_0's auc: 0.747827\tvalid_0's binary_logloss: 0.114284\n",
      "[678]\tvalid_0's auc: 0.747816\tvalid_0's binary_logloss: 0.114295\n",
      "[679]\tvalid_0's auc: 0.747799\tvalid_0's binary_logloss: 0.114306\n",
      "[680]\tvalid_0's auc: 0.747775\tvalid_0's binary_logloss: 0.11432\n",
      "[681]\tvalid_0's auc: 0.747768\tvalid_0's binary_logloss: 0.114329\n",
      "[682]\tvalid_0's auc: 0.747744\tvalid_0's binary_logloss: 0.114341\n",
      "[683]\tvalid_0's auc: 0.747709\tvalid_0's binary_logloss: 0.114353\n",
      "[684]\tvalid_0's auc: 0.747697\tvalid_0's binary_logloss: 0.114367\n",
      "[685]\tvalid_0's auc: 0.747695\tvalid_0's binary_logloss: 0.114378\n",
      "[686]\tvalid_0's auc: 0.747675\tvalid_0's binary_logloss: 0.114388\n",
      "[687]\tvalid_0's auc: 0.747657\tvalid_0's binary_logloss: 0.1144\n",
      "[688]\tvalid_0's auc: 0.747629\tvalid_0's binary_logloss: 0.114411\n",
      "[689]\tvalid_0's auc: 0.747619\tvalid_0's binary_logloss: 0.114423\n",
      "[690]\tvalid_0's auc: 0.747606\tvalid_0's binary_logloss: 0.114435\n",
      "[691]\tvalid_0's auc: 0.747606\tvalid_0's binary_logloss: 0.114446\n",
      "[692]\tvalid_0's auc: 0.747614\tvalid_0's binary_logloss: 0.114455\n",
      "[693]\tvalid_0's auc: 0.747603\tvalid_0's binary_logloss: 0.114473\n",
      "[694]\tvalid_0's auc: 0.747595\tvalid_0's binary_logloss: 0.114484\n",
      "[695]\tvalid_0's auc: 0.747558\tvalid_0's binary_logloss: 0.1145\n",
      "[696]\tvalid_0's auc: 0.74751\tvalid_0's binary_logloss: 0.114517\n",
      "[697]\tvalid_0's auc: 0.747477\tvalid_0's binary_logloss: 0.114533\n",
      "[698]\tvalid_0's auc: 0.74743\tvalid_0's binary_logloss: 0.114547\n",
      "[699]\tvalid_0's auc: 0.747407\tvalid_0's binary_logloss: 0.114559\n",
      "[700]\tvalid_0's auc: 0.747378\tvalid_0's binary_logloss: 0.114575\n",
      "{'task': 'train', 'boosting_type': 'gbdt', 'objective': 'binary', 'metric': ['auc', 'binary_logloss'], 'num_leaves': 2500, 'learning_rate': 0.04, 'feature_fraction': 0.4, 'lambda_l1': 0.5, 'lambda_l2': 0.5, 'verbose': 0}\n"
     ]
    }
   ],
   "source": [
    "cvr_lgbm = valClassifierLGBM (X_train, y_train, X_val, y_val)"
   ]
  },
  {
   "cell_type": "code",
   "execution_count": 97,
   "id": "97509a4e",
   "metadata": {},
   "outputs": [],
   "source": [
    "preds_lgbm = cvr_lgbm.predict (X_test, num_iteration = cvr_lgbm.best_iteration) #this is probability"
   ]
  },
  {
   "cell_type": "code",
   "execution_count": 117,
   "id": "453aa42f",
   "metadata": {},
   "outputs": [
    {
     "name": "stdout",
     "output_type": "stream",
     "text": [
      "0.11021026996293837\n"
     ]
    }
   ],
   "source": [
    "\n",
    "lgbm_ll = log_loss (y_test, preds_lgbm)\n",
    "print (lgbm_ll)"
   ]
  },
  {
   "cell_type": "markdown",
   "id": "5fa4fbf0",
   "metadata": {},
   "source": [
    "### feature importance graph"
   ]
  },
  {
   "cell_type": "code",
   "execution_count": 100,
   "id": "22e09249",
   "metadata": {},
   "outputs": [],
   "source": [
    "importances_lgbm = cvr_lgbm.feature_importance()\n",
    "\n",
    "indices_lgbm = np.argsort(importances_lgbm)[::-1]"
   ]
  },
  {
   "cell_type": "code",
   "execution_count": 101,
   "id": "cb91dbd0",
   "metadata": {},
   "outputs": [
    {
     "name": "stdout",
     "output_type": "stream",
     "text": [
      " 1) userID                         226071.000000\n",
      " 2) age                            166974.000000\n",
      " 3) click_time                     131252.000000\n",
      " 4) positionID                     131000.000000\n",
      " 5) res_prov                       126479.000000\n",
      " 6) creativeID                     120532.000000\n",
      " 7) res_city                       110083.000000\n",
      " 8) home_prov                      104284.000000\n",
      " 9) home_city                      96836.000000\n",
      "10) camgaignID                     93547.000000\n",
      "11) adID                           89505.000000\n",
      "12) click_day                      69442.000000\n",
      "13) education                      49980.000000\n",
      "14) advertiserID                   37185.000000\n",
      "15) marriageStatus                 33547.000000\n",
      "16) appID                          30259.000000\n",
      "17) telecomsOperator               26966.000000\n",
      "18) ageGroup                       24354.000000\n",
      "19) haveBaby                       24288.000000\n",
      "20) appCategory                    21786.000000\n",
      "21) second_cat                     12048.000000\n",
      "22) gender                         9437.000000\n",
      "23) first_cat                      8656.000000\n",
      "24) connectionType                 4320.000000\n",
      "25) appPlatform                    469.000000\n"
     ]
    },
    {
     "data": {
      "image/png": "[encoded data removed]",
      "text/plain": [
       "<Figure size 432x288 with 1 Axes>"
      ]
     },
     "metadata": {
      "needs_background": "light"
     },
     "output_type": "display_data"
    }
   ],
   "source": [
    "for i in range(len(importances_lgbm)):\n",
    "    print(\"%2d) %-*s %f\" % (i + 1, 30, \n",
    "                            fea_list[indices_lgbm[i]], \n",
    "                            importances_lgbm[indices_lgbm[i]]))\n",
    "\n",
    "plt.title('Feature Importances')\n",
    "plt.bar(range(len(importances_lgbm)), \n",
    "        importances_lgbm[indices_lgbm],\n",
    "        color='lightblue', \n",
    "        align='center')\n",
    "\n",
    "plt.xticks(range(len(importances_lgbm)), \n",
    "           np.array(fea_list)[indices_lgbm], rotation=90)\n",
    "\n",
    "plt.xlim([-1, len(importances_lgbm)])\n",
    "plt.tight_layout()\n",
    "\n",
    "plt.show()"
   ]
  },
  {
   "cell_type": "code",
   "execution_count": 238,
   "id": "57b89bde",
   "metadata": {},
   "outputs": [],
   "source": [
    "##select features based on random forest and light gradient boost tree models"
   ]
  },
  {
   "cell_type": "code",
   "execution_count": 104,
   "id": "20a6d77e",
   "metadata": {},
   "outputs": [],
   "source": [
    "fea_list2 = ['home_prov','age','res_city','click_time',\n",
    "             'userID','positionID','click_day',\n",
    "             'home_city','adID', \n",
    "             'education', 'creativeID','res_city','connectionType',\n",
    "             'marriageStatus','telecomsOperator']"
   ]
  },
  {
   "cell_type": "code",
   "execution_count": 105,
   "id": "d1b196ee",
   "metadata": {},
   "outputs": [],
   "source": [
    "X_train_xgb = np.array (df_all_train[fea_list2],dtype = 'int32')\n",
    "\n",
    "X_val_xgb = np.array (df_all_val[fea_list2],dtype = 'int32')\n",
    "\n",
    "X_test_xgb = np.array (df_all_test[fea_list2],dtype = 'int32')"
   ]
  },
  {
   "cell_type": "code",
   "execution_count": 106,
   "id": "9789c0cf",
   "metadata": {},
   "outputs": [
    {
     "data": {
      "text/plain": [
       "(580403, 15)"
      ]
     },
     "execution_count": 106,
     "metadata": {},
     "output_type": "execute_result"
    }
   ],
   "source": [
    "X_test_xgb.shape"
   ]
  },
  {
   "cell_type": "code",
   "execution_count": 419,
   "id": "3a194ee8",
   "metadata": {
    "scrolled": true
   },
   "outputs": [
    {
     "name": "stdout",
     "output_type": "stream",
     "text": [
      "Collecting package metadata (current_repodata.json): done\n",
      "Solving environment: done\n",
      "\n",
      "## Package Plan ##\n",
      "\n",
      "  environment location: /Users/ttian/opt/anaconda3\n",
      "\n",
      "  added / updated specs:\n",
      "    - xgboost\n",
      "\n",
      "\n",
      "The following packages will be downloaded:\n",
      "\n",
      "    package                    |            build\n",
      "    ---------------------------|-----------------\n",
      "    _py-xgboost-mutex-2.0      |            cpu_0           8 KB  conda-forge\n",
      "    libxgboost-1.5.1           |   cpu_h598c753_2         2.2 MB  conda-forge\n",
      "    py-xgboost-1.5.1           |cpu_py39hb0a6171_2         152 KB  conda-forge\n",
      "    xgboost-1.5.1              |cpu_py39h037b50c_2          12 KB  conda-forge\n",
      "    ------------------------------------------------------------\n",
      "                                           Total:         2.4 MB\n",
      "\n",
      "The following NEW packages will be INSTALLED:\n",
      "\n",
      "  _py-xgboost-mutex  conda-forge/osx-64::_py-xgboost-mutex-2.0-cpu_0\n",
      "  libxgboost         conda-forge/osx-64::libxgboost-1.5.1-cpu_h598c753_2\n",
      "  py-xgboost         conda-forge/osx-64::py-xgboost-1.5.1-cpu_py39hb0a6171_2\n",
      "  xgboost            conda-forge/osx-64::xgboost-1.5.1-cpu_py39h037b50c_2\n",
      "\n",
      "\n",
      "\n",
      "Downloading and Extracting Packages\n",
      "py-xgboost-1.5.1     | 152 KB    | ##################################### | 100% \n",
      "xgboost-1.5.1        | 12 KB     | ##################################### | 100% \n",
      "_py-xgboost-mutex-2. | 8 KB      | ##################################### | 100% \n",
      "libxgboost-1.5.1     | 2.2 MB    | ##################################### | 100% \n",
      "Preparing transaction: done\n",
      "Verifying transaction: done\n",
      "Executing transaction: done\n",
      "\n",
      "Note: you may need to restart the kernel to use updated packages.\n"
     ]
    }
   ],
   "source": [
    "conda install -c conda-forge xgboost"
   ]
  },
  {
   "cell_type": "code",
   "execution_count": 107,
   "id": "b96efaa9",
   "metadata": {},
   "outputs": [],
   "source": [
    "import xgboost as xgb"
   ]
  },
  {
   "cell_type": "code",
   "execution_count": 108,
   "id": "1968cf9e",
   "metadata": {},
   "outputs": [
    {
     "name": "stderr",
     "output_type": "stream",
     "text": [
      "/Users/ttian/opt/anaconda3/lib/python3.9/site-packages/xgboost/sklearn.py:1224: UserWarning: The use of label encoder in XGBClassifier is deprecated and will be removed in a future release. To remove this warning, do the following: 1) Pass option use_label_encoder=False when constructing XGBClassifier object; and 2) Encode your labels (y) as integers starting with 0, i.e. 0, 1, 2, ..., [num_class - 1].\n",
      "  warnings.warn(label_encoder_deprecation_msg, UserWarning)\n"
     ]
    },
    {
     "name": "stdout",
     "output_type": "stream",
     "text": [
      "[22:42:50] WARNING: /Users/runner/miniforge3/conda-bld/xgboost-split_1645117948562/work/src/learner.cc:1115: Starting in XGBoost 1.3.0, the default evaluation metric used with the objective 'binary:logistic' was changed from 'error' to 'logloss'. Explicitly set eval_metric if you'd like to restore the old behavior.\n"
     ]
    },
    {
     "data": {
      "text/plain": [
       "XGBClassifier(base_score=0.5, booster='gbtree', colsample_bylevel=1,\n",
       "              colsample_bynode=1, colsample_bytree=1, enable_categorical=False,\n",
       "              gamma=0, gpu_id=-1, importance_type=None,\n",
       "              interaction_constraints='', learning_rate=0.300000012,\n",
       "              max_delta_step=0, max_depth=6, min_child_weight=1, missing=nan,\n",
       "              monotone_constraints='()', n_estimators=100, n_jobs=8,\n",
       "              num_parallel_tree=1, predictor='auto', random_state=0,\n",
       "              reg_alpha=0, reg_lambda=1, scale_pos_weight=1, subsample=1,\n",
       "              tree_method='exact', validate_parameters=1, verbosity=None)"
      ]
     },
     "execution_count": 108,
     "metadata": {},
     "output_type": "execute_result"
    }
   ],
   "source": [
    "from sklearn.metrics import accuracy_score\n",
    "xgb_cl = xgb.XGBClassifier()\n",
    "\n",
    "# Fit\n",
    "xgb_cl.fit(X_train_xgb, y_train)"
   ]
  },
  {
   "cell_type": "code",
   "execution_count": 109,
   "id": "d66af2e9",
   "metadata": {},
   "outputs": [],
   "source": [
    "# Predict\n",
    "preds_xgb = xgb_cl.predict(X_test_xgb)\n",
    "preds_xgb_prob = xgb_cl.predict_proba (X_test_xgb)"
   ]
  },
  {
   "cell_type": "code",
   "execution_count": 110,
   "id": "057502aa",
   "metadata": {},
   "outputs": [],
   "source": [
    "xgb_ll = log_loss (y_test, preds_xgb_prob)"
   ]
  },
  {
   "cell_type": "code",
   "execution_count": 111,
   "id": "da5a60ba",
   "metadata": {},
   "outputs": [
    {
     "data": {
      "text/plain": [
       "0.10634798663617798"
      ]
     },
     "execution_count": 111,
     "metadata": {},
     "output_type": "execute_result"
    }
   ],
   "source": [
    "xgb_ll #0.1063"
   ]
  },
  {
   "cell_type": "code",
   "execution_count": 112,
   "id": "bf838a7c",
   "metadata": {},
   "outputs": [],
   "source": [
    "importances_xgb = xgb_cl.feature_importances_\n"
   ]
  },
  {
   "cell_type": "code",
   "execution_count": 113,
   "id": "1715a9d5",
   "metadata": {},
   "outputs": [],
   "source": [
    "indices_xgb = np.argsort(importances_xgb)[::-1]"
   ]
  },
  {
   "cell_type": "code",
   "execution_count": 114,
   "id": "b8fb6876",
   "metadata": {},
   "outputs": [
    {
     "data": {
      "text/plain": [
       "array([0.03150245, 0.0361877 , 0.01876637, 0.02815631, 0.01870346,\n",
       "       0.12036134, 0.02369634, 0.01763962, 0.10841349, 0.02843276,\n",
       "       0.11333009, 0.        , 0.41159916, 0.02380169, 0.01940917],\n",
       "      dtype=float32)"
      ]
     },
     "execution_count": 114,
     "metadata": {},
     "output_type": "execute_result"
    }
   ],
   "source": [
    "importances_xgb"
   ]
  },
  {
   "cell_type": "code",
   "execution_count": 115,
   "id": "67985be9",
   "metadata": {},
   "outputs": [
    {
     "data": {
      "text/plain": [
       "array([12,  5, 10,  8,  1,  0,  9,  3, 13,  6, 14,  2,  4,  7, 11])"
      ]
     },
     "execution_count": 115,
     "metadata": {},
     "output_type": "execute_result"
    }
   ],
   "source": [
    "indices_xgb"
   ]
  },
  {
   "cell_type": "code",
   "execution_count": 116,
   "id": "018dbac7",
   "metadata": {},
   "outputs": [
    {
     "name": "stdout",
     "output_type": "stream",
     "text": [
      " 1) connectionType                 0.411599\n",
      " 2) positionID                     0.120361\n",
      " 3) creativeID                     0.113330\n",
      " 4) adID                           0.108413\n",
      " 5) age                            0.036188\n",
      " 6) home_prov                      0.031502\n",
      " 7) education                      0.028433\n",
      " 8) click_time                     0.028156\n",
      " 9) marriageStatus                 0.023802\n",
      "10) click_day                      0.023696\n",
      "11) telecomsOperator               0.019409\n",
      "12) res_city                       0.018766\n",
      "13) userID                         0.018703\n",
      "14) home_city                      0.017640\n",
      "15) res_city                       0.000000\n"
     ]
    },
    {
     "data": {
      "image/png": "[encoded data removed]",
      "text/plain": [
       "<Figure size 432x288 with 1 Axes>"
      ]
     },
     "metadata": {
      "needs_background": "light"
     },
     "output_type": "display_data"
    }
   ],
   "source": [
    "for i in range(len(importances_xgb)):\n",
    "    print(\"%2d) %-*s %f\" % (i + 1, 30, \n",
    "                            fea_list2[indices_xgb[i]], \n",
    "                            importances_xgb[indices_xgb[i]]))\n",
    "\n",
    "plt.title('Feature Importances')\n",
    "plt.bar(range(len(importances_xgb)), \n",
    "        importances_xgb[indices_xgb],\n",
    "        color='darkblue', \n",
    "        align='center')\n",
    "\n",
    "plt.xticks(range(len(importances_xgb)), \n",
    "           np.array(fea_list2)[indices_xgb], rotation=90)\n",
    "\n",
    "plt.xlim([-1, len(importances_xgb)])\n",
    "plt.tight_layout()\n",
    "\n",
    "plt.show()"
   ]
  },
  {
   "cell_type": "code",
   "execution_count": null,
   "id": "14f7cd99",
   "metadata": {},
   "outputs": [],
   "source": []
  }
 ],
 "metadata": {
  "kernelspec": {
   "display_name": "Python 3 (ipykernel)",
   "language": "python",
   "name": "python3"
  },
  "language_info": {
   "codemirror_mode": {
    "name": "ipython",
    "version": 3
   },
   "file_extension": ".py",
   "mimetype": "text/x-python",
   "name": "python",
   "nbconvert_exporter": "python",
   "pygments_lexer": "ipython3",
   "version": "3.9.7"
  }
 },
 "nbformat": 4,
 "nbformat_minor": 5
}
